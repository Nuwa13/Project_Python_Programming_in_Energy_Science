{
 "cells": [
  {
   "cell_type": "code",
   "execution_count": null,
   "id": "84a22f8c",
   "metadata": {},
   "outputs": [],
   "source": [
    "import pandas as pd\n",
    "import numpy as np\n",
    "import datetime as dt\n",
    "from sklearn.preprocessing import StandardScaler\n",
    "from sklearn.model_selection import GridSearchCV,train_test_split,cross_val_predict\n",
    "from sklearn.metrics import r2_score, mean_absolute_error, mean_absolute_percentage_error,root_mean_squared_error,mean_squared_error\n",
    "from sklearn.neighbors import KNeighborsRegressor\n",
    "import matplotlib.pyplot as plt\n",
    "\n",
    "scaler=StandardScaler()\n",
    "\n",
    "\n",
    "# load in the wind velocity data and clean duplicates etc.:\n",
    "data_ERA5 = pd.read_csv(f'reanalysis.csv',parse_dates=['Unnamed: 0'])\n",
    "                # preprocessed ERA5 data\n",
    "data_ERA5.rename(columns={ data_ERA5.columns[0]: \"Time\" }, inplace = True)\n",
    "                # rename the first column to be the 'time' column\n",
    "data_ERA5.drop_duplicates(subset='Time', inplace=True)\n",
    "\n",
    "\n",
    "data_LIDAR = pd.read_csv(f'measurements/lidar.csv',parse_dates=['Unnamed: 0'])\n",
    "                # data from the LIDAR measurement\n",
    "data_LIDAR.rename(columns={ data_LIDAR.columns[0]: \"Time\" }, inplace = True)\n",
    "                # rename the first column to be the 'time' column\n",
    "data_LIDAR.drop_duplicates(subset='Time', inplace=True)\n",
    "\n",
    "\n",
    "# Resample the LIDAR data to 1h intervals\n",
    "\n",
    "data_LIDAR = data_LIDAR.resample('h', on='Time').mean()\n",
    "\n",
    "\n",
    "# create a merged dataframe containing the ERA5 and the LIDAR data\n",
    "\n",
    "data_mrgd = pd.merge(data_LIDAR, data_ERA5, how='right', on='Time')\n",
    "\n",
    "data_mrgd['Time'] = pd.to_datetime(data_mrgd['Time'])\n",
    "\n",
    "fig, ax = plt.subplots(2, 2, figsize=(12, 8))\n",
    "\n",
    "ax = ax.flatten()\n",
    "\n",
    "ax[0].plot(data_mrgd['Time'], data_mrgd['WS100'])\n",
    "ax[0].plot(data_mrgd['Time'], data_mrgd['WS-99.2'])\n",
    "\n",
    "ax[1].plot(data_mrgd['Time'], data_mrgd['WD100'])\n",
    "ax[1].plot(data_mrgd['Time'], data_mrgd['WD-99.2'])\n",
    "\n",
    "ax[2].hist(data_mrgd['WS100'], density=True, alpha=0.5)\n",
    "ax[2].hist(data_mrgd['WS-99.2'], density=True, alpha=0.5)\n",
    "\n",
    "for axs in ax[0:2]:\n",
    "    axs.set_xlim(data_LIDAR.index[0], data_LIDAR.index[-1])\n",
    "    axs.legend(['ERA5', 'LIDAR'])\n",
    "    axs.grid(True, linestyle=\"--\", alpha=0.6)"
   ]
  }
 ],
 "metadata": {
  "kernelspec": {
   "display_name": ".venv",
   "language": "python",
   "name": "python3"
  },
  "language_info": {
   "codemirror_mode": {
    "name": "ipython",
    "version": 3
   },
   "file_extension": ".py",
   "mimetype": "text/x-python",
   "name": "python",
   "nbconvert_exporter": "python",
   "pygments_lexer": "ipython3",
   "version": "3.13.3"
  }
 },
 "nbformat": 4,
 "nbformat_minor": 5
}
