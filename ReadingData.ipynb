{
 "cells": [
  {
   "cell_type": "code",
   "execution_count": null,
   "id": "84a22f8c",
   "metadata": {},
   "outputs": [],
   "source": [
    "#date: 14.05.25 \n",
    "#author: group 1 - Nuwa, Jan, Marlene\n",
    "#name: base1 for project 2025 \n",
    "#type: general start for the project to get organized an branche of ;)\n",
    "\n",
    "import pandas as pd\n",
    "import numpy as np\n",
    "import datetime as dt\n",
    "from sklearn.preprocessing import StandardScaler\n",
    "from sklearn.model_selection import GridSearchCV,train_test_split,cross_val_predict\n",
    "from sklearn.metrics import r2_score, mean_absolute_error, mean_absolute_percentage_error,root_mean_squared_error,mean_squared_error\n",
    "from sklearn.neighbors import KNeighborsRegressor\n",
    "import matplotlib.pyplot as plt\n",
    "\n",
    "scaler=StandardScaler()"
   ]
  }
 ],
 "metadata": {
  "language_info": {
   "name": "python"
  }
 },
 "nbformat": 4,
 "nbformat_minor": 5
}
