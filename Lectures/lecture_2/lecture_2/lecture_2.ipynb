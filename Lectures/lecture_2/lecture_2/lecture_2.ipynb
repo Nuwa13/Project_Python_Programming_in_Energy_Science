{
 "cells": [
  {
   "cell_type": "markdown",
   "metadata": {},
   "source": [
    "# <center> Python Programming in Energy Science 2 </center>\n",
    "\n",
    "## <center> Lecture 2, 16 April 2025 </center>\n",
    "\n",
    "<img src=\"files/pycourse2.png\" width=\"300\" />\n",
    "\n",
    "-------------------------------\n",
    "\n",
    "### **Contents**\n",
    "1. Introduction to ML\n",
    "2. Test case application\n",
    "\n",
    "\n",
    "--------------------------------\n",
    "\n",
    "Lecturer: \n",
    "\n",
    "Sandra Schwegmann\n",
    "Sandra.Schwegmann@iwes.fraunhofer.de"
   ]
  },
  {
   "cell_type": "markdown",
   "metadata": {},
   "source": [
    "# (1) Introduction"
   ]
  },
  {
   "cell_type": "markdown",
   "metadata": {},
   "source": [
    "## (1.1) Why has Machine Learning (ML) been established"
   ]
  },
  {
   "cell_type": "markdown",
   "metadata": {},
   "source": [
    "Machine learning has been established to \n",
    "- ease and improve solutions for task which would otherwise need a lot of human work\n",
    "- find solutions for complex processes where traditional ways might fail\n",
    "\n",
    "Machine learning (ML) aims to find patterns, correlations and relations in data and use them for learning. Thus, with more information (training material), solutions can be found and improved. An advantage is, that ML methods do not stick to a certain pattern but are flexible. An example is your spam filter. You start filtering spam with a training, by teaching the algorithm that certain emails are spam. The ML algorithms learns with each new information and starts to filter on its own based on the learned information. The information comes not only from you but also from many other people. Over time, filtering becomes better and better and can adapt to changes, for example if spammer change a certain phrase in the title because it has so many training information. If you would have to do this filter on your own, you would need to implement a long list of cases for which your programm filters out spam emails. This would be based on your own information, and it needs to be adapted on your own if spammer change phrases. Thus, ML can ease your life!"
   ]
  },
  {
   "cell_type": "markdown",
   "metadata": {},
   "source": [
    "## (1.2) What is ML"
   ]
  },
  {
   "cell_type": "markdown",
   "metadata": {},
   "source": [
    "Machine learning is a part of Artificial Intelligence and is the science about teaching a computer to learn without explicitely programming what it has to learn. What it learns is finding patterns in a set of data and use it to make the best possible decisions or predictions. A subset of ML leads to Deep Learning where even more complex processes may be understood.  "
   ]
  },
  {
   "cell_type": "markdown",
   "metadata": {},
   "source": [
    "<center> <img src=\"files/AI_ML_DL.png\" width=\"500\" /> \n",
    "<h6>     \n",
    "Source: https://becominghuman.ai/how-to-get-the-perfect-start-in-ai-ml-as-newbie-learn-the-art-in-just-5-mins-cba28d2705e4\n",
    "<h6> </center>\n"
   ]
  },
  {
   "cell_type": "markdown",
   "metadata": {},
   "source": [
    "Machine learning is divided into three areas: Supervised learning, unsupervised learning and reinforcement learning. \n",
    "\n",
    "**Supervised learning** \\\n",
    "The training data already have the solutions, so called labels. In case of the spam filter example, the filter gets the information during the training, which email is spam and which not. Another example is wind speed prediction: in supervised learning an algorithm may be trained on wind speed, wind direction, surrounding temperature and other relevant information from a nearby measurement in order to predict data gaps at another position. \n",
    "\n"
   ]
  },
  {
   "cell_type": "markdown",
   "metadata": {},
   "source": [
    "<center> <img src=\"files/MLapplications.jpg\" width=\"600\" /> \n",
    "<h6> Source: https://datute.net/bigdata.html <h6> </center>\n"
   ]
  },
  {
   "cell_type": "markdown",
   "metadata": {
    "scrolled": true
   },
   "source": [
    "**Unsupervised learning**\\\n",
    "Trainingsdata do not contain labels, the algorithm tries to learn without having a relation to correct solutions by screening patterns in the data and structuring them. \n",
    "<center> <img src=\"files/SupervisedVsUnsupervised.png\" width=\"500\" /> </center>"
   ]
  },
  {
   "cell_type": "markdown",
   "metadata": {},
   "source": [
    "**Reinforcement learning**\\\n",
    "Programm is called Agent - performes actions and becomes rewarded/punished. From this treatment it learnes over time how to find the best action. Example: Chess event - Agent played many times against itself to find best solution for every action. Using this information it won against the world champion. "
   ]
  },
  {
   "cell_type": "markdown",
   "metadata": {},
   "source": [
    "## (1.3) How do I use ML"
   ]
  },
  {
   "cell_type": "markdown",
   "metadata": {},
   "source": [
    "**Advice:** Structure your project.\n",
    "You can follow the data science lifecycle for this.\n",
    "\n",
    "**Scoping**\\\n",
    "Define which question you like to answer or what is the task about. Define the objectives for the problem that needs to be tackled. Find out, which data you have and which ones might be helpful in addion (data mining).\n",
    "\n",
    "**Data cleaning**\\\n",
    "Fix any inconsistencies like missing data, undesired duplicates, inconsistencies in, e.g., temporal resolution, unrealistic values.\n",
    "\n",
    "**Data exploration**\\\n",
    "Find out what is in your data. What is the data already telling you. Visualize the data and form your hypotheses about your defined problem."
   ]
  },
  {
   "cell_type": "markdown",
   "metadata": {},
   "source": [
    "<center> <img src=\"files/lifeCycleDS2.png\" width=\"500\" /> \n",
    "    <h6> Source: © Copyright Deutsches Klimarechenzentrum GmbH (https://docs.dkrz.de/doc/software%26services/machine-learning/index.html)) <h6> </center>"
   ]
  },
  {
   "cell_type": "markdown",
   "metadata": {},
   "source": [
    "**Feature engineering**\\\n",
    "Select the features that may help you in solving your problem and create new ones from your raw data set. This might be a month column from your datetime object or differences between two variables that may lead to another variable, like the difference of surface temperature and temperature at another hight to get an indicator for the stratification. \n",
    "\n",
    "**Model development**\\\n",
    "Chose the model you want to use and train it. Depending on your problem model solution may change. In supervised learning, linear regression, decision trees, ensemble methods, K-nearest neighbors, support vector machines and for complex processes neural networks are often used. An evaluation of the performance after the training helps you to decide whether you have to adapt the model setup or use it right now for making predictions. \n"
   ]
  },
  {
   "cell_type": "markdown",
   "metadata": {},
   "source": [
    "<center> <img src=\"files/Modelle.png\" width=\"700\" /> </center>"
   ]
  },
  {
   "cell_type": "markdown",
   "metadata": {},
   "source": [
    "**Verification**\\\n",
    "Make sure that you have some test data left over which the trainings process has never seen. These data aim to verify how good your model is able to perform prediction from new data. For that, the data is split into trainings and test data before the modelling process has started. \n",
    "Visualize your findings. \n"
   ]
  },
  {
   "cell_type": "markdown",
   "metadata": {},
   "source": [
    "<center> <img src=\"files/CV_Methode.png\" width=\"700\" /> </center>"
   ]
  },
  {
   "cell_type": "markdown",
   "metadata": {},
   "source": [
    "**Workflow tuning**\\\n",
    "You may adapt your model for any improvement reasons.\n",
    "\n",
    "**Evaluation and roll-out**\\\n",
    "Proof your results. Do they answer your questions? Discuss with others using visualizations."
   ]
  },
  {
   "cell_type": "markdown",
   "metadata": {},
   "source": [
    "## (1.4) For what do we use ML"
   ]
  },
  {
   "cell_type": "markdown",
   "metadata": {},
   "source": [
    "ML can be used for several applications, like recognising credit card fraud, predicting annual sales or finding special patterns in images like cancer cells, to mention only very few of them.\n",
    "\n",
    "Here, we use it for the **M**easure-**C**orrelate-**P**redict (MCP) Method used in wind energy site assessment. Usually, a met mast or a lidar measures wind characteristics of a site of interest for about one year. However, for wind farm planning, wind characteristics are needed over the live span of a turbine which covers ~ 20-30 years. In order to get the information needed, model data are most often used, mostly from reanalysis data sets like ERA-5. These data cover a global grid, and for the MCP process, wind charachteristics from the grid point nearest to the measurement position are extracted to calculate a correlation function between both over the overlapping period. Using this function, the wind speeds of the reanalysis data set are predicted (or better to say: they are corrected to fit the wind characteristics at the measurement site).   \n",
    "\n",
    "<center> <img src=\"files/MCP.png\" width=\"300\" /> </center>"
   ]
  },
  {
   "cell_type": "markdown",
   "metadata": {},
   "source": [
    "## (2) Applying ML for wind industry site assessment"
   ]
  },
  {
   "cell_type": "code",
   "execution_count": 115,
   "metadata": {},
   "outputs": [],
   "source": [
    "import pandas as pd\n",
    "import numpy as np\n",
    "import datetime as dt\n",
    "from sklearn.preprocessing import StandardScaler\n",
    "from sklearn.model_selection import GridSearchCV,train_test_split,cross_val_predict\n",
    "from sklearn.metrics import r2_score, mean_absolute_error, mean_absolute_percentage_error,root_mean_squared_error,mean_squared_error\n",
    "from sklearn.neighbors import KNeighborsRegressor\n",
    "import matplotlib.pyplot as plt\n",
    "\n",
    "scaler=StandardScaler()"
   ]
  },
  {
   "cell_type": "markdown",
   "metadata": {},
   "source": [
    "**1. Scoping**\\\n",
    "What is the wind speed variability at the measurement site for the period 2000-2014 according to measurements?\\\n",
    "Issues: We only have 2 years of measurements. ERA-5 data cover per grid point an area of ~30x30 km and are based on models which are not the same as measurements.\\\n",
    "=> \n",
    "**Scope**: Correct the long-term measurements to fit the measurements as good as possible."
   ]
  },
  {
   "cell_type": "markdown",
   "metadata": {},
   "source": [
    "**1.a. Data mining**"
   ]
  },
  {
   "cell_type": "code",
   "execution_count": 116,
   "metadata": {},
   "outputs": [],
   "source": [
    "# read observations \n",
    "data = pd.read_csv(f'data/Fino3_2012_2013.csv',parse_dates=['time'])"
   ]
  },
  {
   "cell_type": "markdown",
   "metadata": {},
   "source": [
    "**TASK 1:** Have a look what is in the data.\n",
    "- what are the column names?\n",
    "- what do the column names mean?\n",
    "- which range do the values have?\n",
    "- are these values realistic?\n",
    "- check for missing time stamps\n",
    "- check for duplicate time stamps\n",
    "- check for missing data - what are options to get rid of them?"
   ]
  },
  {
   "cell_type": "code",
   "execution_count": 117,
   "metadata": {},
   "outputs": [
    {
     "name": "stdout",
     "output_type": "stream",
     "text": [
      "Index(['time', 'WS-90-DD345', 'WD-100'], dtype='object')\n",
      "\n",
      "                                time    WS-90-DD345         WD-100\n",
      "count                         105266  105266.000000  105266.000000\n",
      "mean   2012-12-31 11:50:00.421788416     -66.305774      85.373037\n",
      "min              2012-01-01 00:00:00    -999.000000    -999.000000\n",
      "25%              2012-07-01 17:52:30       5.920000     100.320000\n",
      "50%              2012-12-31 11:55:00       9.470000     217.640000\n",
      "75%              2013-07-02 05:47:30      12.750000     282.277500\n",
      "max              2013-12-31 23:50:00      36.330000     360.000000\n",
      "std                              NaN     267.054352     382.505847\n",
      "\n",
      "Duplicates:\n",
      "2\n",
      "\n",
      "Number of missing Data:\n",
      "time           False\n",
      "WS-90-DD345    False\n",
      "WD-100         False\n",
      "dtype: bool\n",
      "\n"
     ]
    }
   ],
   "source": [
    "print(data.columns)\n",
    "print()\n",
    "\n",
    "# check for value range, outlayers, missing time stamps\n",
    "print(data.describe())\n",
    "print()\n",
    "# check for duplicate time stamps\n",
    "print('Duplicates:')\n",
    "print(data.duplicated(subset='time').sum())  #### removing would work with: pandas.DataFrame.drop_duplicates\n",
    "print()\n",
    "# check for missing data\n",
    "print('Number of missing Data:')\n",
    "print(data.isnull().any())\n",
    "print()\n"
   ]
  },
  {
   "cell_type": "code",
   "execution_count": 118,
   "metadata": {},
   "outputs": [
    {
     "name": "stdout",
     "output_type": "stream",
     "text": [
      "<class 'pandas.core.frame.DataFrame'>\n",
      "RangeIndex: 105266 entries, 0 to 105265\n",
      "Data columns (total 3 columns):\n",
      " #   Column       Non-Null Count   Dtype         \n",
      "---  ------       --------------   -----         \n",
      " 0   time         105266 non-null  datetime64[ns]\n",
      " 1   WS-90-DD345  105266 non-null  float64       \n",
      " 2   WD-100       105266 non-null  float64       \n",
      "dtypes: datetime64[ns](1), float64(2)\n",
      "memory usage: 2.4 MB\n"
     ]
    }
   ],
   "source": [
    "data.info()"
   ]
  },
  {
   "cell_type": "code",
   "execution_count": 119,
   "metadata": {},
   "outputs": [
    {
     "data": {
      "text/html": [
       "<div>\n",
       "<style scoped>\n",
       "    .dataframe tbody tr th:only-of-type {\n",
       "        vertical-align: middle;\n",
       "    }\n",
       "\n",
       "    .dataframe tbody tr th {\n",
       "        vertical-align: top;\n",
       "    }\n",
       "\n",
       "    .dataframe thead th {\n",
       "        text-align: right;\n",
       "    }\n",
       "</style>\n",
       "<table border=\"1\" class=\"dataframe\">\n",
       "  <thead>\n",
       "    <tr style=\"text-align: right;\">\n",
       "      <th></th>\n",
       "      <th>time</th>\n",
       "      <th>WS-90-DD345</th>\n",
       "      <th>WD-100</th>\n",
       "    </tr>\n",
       "  </thead>\n",
       "  <tbody>\n",
       "    <tr>\n",
       "      <th>0</th>\n",
       "      <td>2012-01-01 00:00:00</td>\n",
       "      <td>-999.0</td>\n",
       "      <td>-999.0</td>\n",
       "    </tr>\n",
       "    <tr>\n",
       "      <th>1</th>\n",
       "      <td>2012-01-01 00:00:00</td>\n",
       "      <td>-999.0</td>\n",
       "      <td>-999.0</td>\n",
       "    </tr>\n",
       "    <tr>\n",
       "      <th>2</th>\n",
       "      <td>2012-01-01 00:10:00</td>\n",
       "      <td>-999.0</td>\n",
       "      <td>-999.0</td>\n",
       "    </tr>\n",
       "    <tr>\n",
       "      <th>3</th>\n",
       "      <td>2012-01-01 00:20:00</td>\n",
       "      <td>-999.0</td>\n",
       "      <td>-999.0</td>\n",
       "    </tr>\n",
       "    <tr>\n",
       "      <th>4</th>\n",
       "      <td>2012-01-01 00:30:00</td>\n",
       "      <td>-999.0</td>\n",
       "      <td>-999.0</td>\n",
       "    </tr>\n",
       "  </tbody>\n",
       "</table>\n",
       "</div>"
      ],
      "text/plain": [
       "                 time  WS-90-DD345  WD-100\n",
       "0 2012-01-01 00:00:00       -999.0  -999.0\n",
       "1 2012-01-01 00:00:00       -999.0  -999.0\n",
       "2 2012-01-01 00:10:00       -999.0  -999.0\n",
       "3 2012-01-01 00:20:00       -999.0  -999.0\n",
       "4 2012-01-01 00:30:00       -999.0  -999.0"
      ]
     },
     "execution_count": 119,
     "metadata": {},
     "output_type": "execute_result"
    }
   ],
   "source": [
    "data.head()"
   ]
  },
  {
   "cell_type": "code",
   "execution_count": 120,
   "metadata": {},
   "outputs": [
    {
     "data": {
      "text/html": [
       "<div>\n",
       "<style scoped>\n",
       "    .dataframe tbody tr th:only-of-type {\n",
       "        vertical-align: middle;\n",
       "    }\n",
       "\n",
       "    .dataframe tbody tr th {\n",
       "        vertical-align: top;\n",
       "    }\n",
       "\n",
       "    .dataframe thead th {\n",
       "        text-align: right;\n",
       "    }\n",
       "</style>\n",
       "<table border=\"1\" class=\"dataframe\">\n",
       "  <thead>\n",
       "    <tr style=\"text-align: right;\">\n",
       "      <th></th>\n",
       "      <th>Time</th>\n",
       "      <th>u100</th>\n",
       "      <th>v100</th>\n",
       "      <th>u10</th>\n",
       "      <th>v10</th>\n",
       "      <th>t2m</th>\n",
       "      <th>d2m</th>\n",
       "      <th>msl</th>\n",
       "      <th>sst</th>\n",
       "      <th>blh</th>\n",
       "      <th>slhf</th>\n",
       "      <th>sshf</th>\n",
       "      <th>ssrd</th>\n",
       "      <th>zust</th>\n",
       "    </tr>\n",
       "  </thead>\n",
       "  <tbody>\n",
       "    <tr>\n",
       "      <th>8755</th>\n",
       "      <td>2014-12-31 19:00:00</td>\n",
       "      <td>10.97779</td>\n",
       "      <td>5.09481</td>\n",
       "      <td>9.16427</td>\n",
       "      <td>4.37564</td>\n",
       "      <td>279.73389</td>\n",
       "      <td>277.65085</td>\n",
       "      <td>102760.93206</td>\n",
       "      <td>280.73300</td>\n",
       "      <td>563.65307</td>\n",
       "      <td>-138682.19138</td>\n",
       "      <td>-20328.86358</td>\n",
       "      <td>0.0</td>\n",
       "      <td>0.40440</td>\n",
       "    </tr>\n",
       "    <tr>\n",
       "      <th>8756</th>\n",
       "      <td>2014-12-31 20:00:00</td>\n",
       "      <td>12.21188</td>\n",
       "      <td>4.85243</td>\n",
       "      <td>10.21249</td>\n",
       "      <td>4.15487</td>\n",
       "      <td>279.50969</td>\n",
       "      <td>277.58501</td>\n",
       "      <td>102766.98677</td>\n",
       "      <td>280.73300</td>\n",
       "      <td>641.30196</td>\n",
       "      <td>-149375.47904</td>\n",
       "      <td>-30174.42163</td>\n",
       "      <td>0.0</td>\n",
       "      <td>0.44411</td>\n",
       "    </tr>\n",
       "    <tr>\n",
       "      <th>8757</th>\n",
       "      <td>2014-12-31 21:00:00</td>\n",
       "      <td>12.55300</td>\n",
       "      <td>4.57529</td>\n",
       "      <td>10.45833</td>\n",
       "      <td>3.91146</td>\n",
       "      <td>279.53958</td>\n",
       "      <td>277.68571</td>\n",
       "      <td>102777.62343</td>\n",
       "      <td>280.73300</td>\n",
       "      <td>696.68788</td>\n",
       "      <td>-155992.32002</td>\n",
       "      <td>-40357.81747</td>\n",
       "      <td>0.0</td>\n",
       "      <td>0.47162</td>\n",
       "    </tr>\n",
       "    <tr>\n",
       "      <th>8758</th>\n",
       "      <td>2014-12-31 22:00:00</td>\n",
       "      <td>12.89223</td>\n",
       "      <td>5.10833</td>\n",
       "      <td>10.26224</td>\n",
       "      <td>4.24120</td>\n",
       "      <td>280.24956</td>\n",
       "      <td>278.30541</td>\n",
       "      <td>102738.84055</td>\n",
       "      <td>280.45983</td>\n",
       "      <td>767.82078</td>\n",
       "      <td>-159300.74051</td>\n",
       "      <td>-37896.42795</td>\n",
       "      <td>0.0</td>\n",
       "      <td>0.47541</td>\n",
       "    </tr>\n",
       "    <tr>\n",
       "      <th>8759</th>\n",
       "      <td>2014-12-31 23:00:00</td>\n",
       "      <td>12.69663</td>\n",
       "      <td>5.18848</td>\n",
       "      <td>10.24133</td>\n",
       "      <td>4.35441</td>\n",
       "      <td>280.53206</td>\n",
       "      <td>278.24473</td>\n",
       "      <td>102721.65826</td>\n",
       "      <td>280.45983</td>\n",
       "      <td>822.48270</td>\n",
       "      <td>-160659.55607</td>\n",
       "      <td>-18157.04930</td>\n",
       "      <td>0.0</td>\n",
       "      <td>0.47720</td>\n",
       "    </tr>\n",
       "  </tbody>\n",
       "</table>\n",
       "</div>"
      ],
      "text/plain": [
       "                    Time      u100     v100       u10      v10        t2m  \\\n",
       "8755 2014-12-31 19:00:00  10.97779  5.09481   9.16427  4.37564  279.73389   \n",
       "8756 2014-12-31 20:00:00  12.21188  4.85243  10.21249  4.15487  279.50969   \n",
       "8757 2014-12-31 21:00:00  12.55300  4.57529  10.45833  3.91146  279.53958   \n",
       "8758 2014-12-31 22:00:00  12.89223  5.10833  10.26224  4.24120  280.24956   \n",
       "8759 2014-12-31 23:00:00  12.69663  5.18848  10.24133  4.35441  280.53206   \n",
       "\n",
       "            d2m           msl        sst        blh          slhf  \\\n",
       "8755  277.65085  102760.93206  280.73300  563.65307 -138682.19138   \n",
       "8756  277.58501  102766.98677  280.73300  641.30196 -149375.47904   \n",
       "8757  277.68571  102777.62343  280.73300  696.68788 -155992.32002   \n",
       "8758  278.30541  102738.84055  280.45983  767.82078 -159300.74051   \n",
       "8759  278.24473  102721.65826  280.45983  822.48270 -160659.55607   \n",
       "\n",
       "             sshf  ssrd     zust  \n",
       "8755 -20328.86358   0.0  0.40440  \n",
       "8756 -30174.42163   0.0  0.44411  \n",
       "8757 -40357.81747   0.0  0.47162  \n",
       "8758 -37896.42795   0.0  0.47541  \n",
       "8759 -18157.04930   0.0  0.47720  "
      ]
     },
     "execution_count": 120,
     "metadata": {},
     "output_type": "execute_result"
    }
   ],
   "source": [
    "# read reference data\n",
    "import glob\n",
    "listEra = []\n",
    "filelist = sorted(glob.glob(f'data/ERA5/ERA5*'))\n",
    "for i in filelist:\n",
    "    listEra.append(pd.read_csv(i,encoding='utf-8',header=2,parse_dates=['Time']))\n",
    "era5 = pd.concat(listEra)\n",
    "era5.tail()\n",
    "\n",
    "# Hint: If you don't know how the Datatime column is names read the data without parse_dates and check for the right naming. Conversion to Datetime object would work with: pd.to_datetime (check for correct usage). Afterwards you could use era5.set_index() (check for correct usage) to set the index to datetime"
   ]
  },
  {
   "cell_type": "markdown",
   "metadata": {},
   "source": [
    "**TASK 2:** Have a look what is in the data.\n",
    "- what are the column names?\n",
    "- what do the column names mean?\n",
    "- which range do the values have?\n",
    "- are these values realistic?"
   ]
  },
  {
   "cell_type": "code",
   "execution_count": null,
   "metadata": {},
   "outputs": [],
   "source": []
  },
  {
   "cell_type": "markdown",
   "metadata": {},
   "source": [
    "**2. Data cleaning**"
   ]
  },
  {
   "cell_type": "code",
   "execution_count": 121,
   "metadata": {},
   "outputs": [],
   "source": [
    "data.drop_duplicates(subset='time',inplace=True)"
   ]
  },
  {
   "cell_type": "code",
   "execution_count": 122,
   "metadata": {},
   "outputs": [
    {
     "data": {
      "text/html": [
       "<div>\n",
       "<style scoped>\n",
       "    .dataframe tbody tr th:only-of-type {\n",
       "        vertical-align: middle;\n",
       "    }\n",
       "\n",
       "    .dataframe tbody tr th {\n",
       "        vertical-align: top;\n",
       "    }\n",
       "\n",
       "    .dataframe thead th {\n",
       "        text-align: right;\n",
       "    }\n",
       "</style>\n",
       "<table border=\"1\" class=\"dataframe\">\n",
       "  <thead>\n",
       "    <tr style=\"text-align: right;\">\n",
       "      <th></th>\n",
       "      <th>Time</th>\n",
       "      <th>WS-90-DD345</th>\n",
       "      <th>WD-100</th>\n",
       "    </tr>\n",
       "  </thead>\n",
       "  <tbody>\n",
       "    <tr>\n",
       "      <th>0</th>\n",
       "      <td>2012-01-01 00:00:00</td>\n",
       "      <td>NaN</td>\n",
       "      <td>NaN</td>\n",
       "    </tr>\n",
       "    <tr>\n",
       "      <th>2</th>\n",
       "      <td>2012-01-01 00:10:00</td>\n",
       "      <td>NaN</td>\n",
       "      <td>NaN</td>\n",
       "    </tr>\n",
       "  </tbody>\n",
       "</table>\n",
       "</div>"
      ],
      "text/plain": [
       "                 Time  WS-90-DD345  WD-100\n",
       "0 2012-01-01 00:00:00          NaN     NaN\n",
       "2 2012-01-01 00:10:00          NaN     NaN"
      ]
     },
     "execution_count": 122,
     "metadata": {},
     "output_type": "execute_result"
    }
   ],
   "source": [
    "# some data cleaning\n",
    "data.rename(columns={'time':'Time'},inplace=True)\n",
    "data[data==-999] = np.nan\n",
    "data.head(2)"
   ]
  },
  {
   "cell_type": "code",
   "execution_count": null,
   "metadata": {},
   "outputs": [],
   "source": []
  },
  {
   "cell_type": "markdown",
   "metadata": {},
   "source": [
    "**Resample data to era5 time stamp**"
   ]
  },
  {
   "cell_type": "code",
   "execution_count": 123,
   "metadata": {},
   "outputs": [
    {
     "name": "stderr",
     "output_type": "stream",
     "text": [
      "/tmp/ipykernel_333905/1495547754.py:2: FutureWarning: 'H' is deprecated and will be removed in a future version, please use 'h' instead.\n",
      "  data = data.resample('H',on='Time').mean()\n"
     ]
    },
    {
     "data": {
      "text/html": [
       "<div>\n",
       "<style scoped>\n",
       "    .dataframe tbody tr th:only-of-type {\n",
       "        vertical-align: middle;\n",
       "    }\n",
       "\n",
       "    .dataframe tbody tr th {\n",
       "        vertical-align: top;\n",
       "    }\n",
       "\n",
       "    .dataframe thead th {\n",
       "        text-align: right;\n",
       "    }\n",
       "</style>\n",
       "<table border=\"1\" class=\"dataframe\">\n",
       "  <thead>\n",
       "    <tr style=\"text-align: right;\">\n",
       "      <th></th>\n",
       "      <th>WS-90-DD345</th>\n",
       "      <th>WD-100</th>\n",
       "    </tr>\n",
       "    <tr>\n",
       "      <th>Time</th>\n",
       "      <th></th>\n",
       "      <th></th>\n",
       "    </tr>\n",
       "  </thead>\n",
       "  <tbody>\n",
       "    <tr>\n",
       "      <th>2012-01-01 00:00:00</th>\n",
       "      <td>NaN</td>\n",
       "      <td>NaN</td>\n",
       "    </tr>\n",
       "    <tr>\n",
       "      <th>2012-01-01 01:00:00</th>\n",
       "      <td>NaN</td>\n",
       "      <td>NaN</td>\n",
       "    </tr>\n",
       "    <tr>\n",
       "      <th>2012-01-01 02:00:00</th>\n",
       "      <td>NaN</td>\n",
       "      <td>NaN</td>\n",
       "    </tr>\n",
       "    <tr>\n",
       "      <th>2012-01-01 03:00:00</th>\n",
       "      <td>NaN</td>\n",
       "      <td>NaN</td>\n",
       "    </tr>\n",
       "    <tr>\n",
       "      <th>2012-01-01 04:00:00</th>\n",
       "      <td>NaN</td>\n",
       "      <td>NaN</td>\n",
       "    </tr>\n",
       "  </tbody>\n",
       "</table>\n",
       "</div>"
      ],
      "text/plain": [
       "                     WS-90-DD345  WD-100\n",
       "Time                                    \n",
       "2012-01-01 00:00:00          NaN     NaN\n",
       "2012-01-01 01:00:00          NaN     NaN\n",
       "2012-01-01 02:00:00          NaN     NaN\n",
       "2012-01-01 03:00:00          NaN     NaN\n",
       "2012-01-01 04:00:00          NaN     NaN"
      ]
     },
     "execution_count": 123,
     "metadata": {},
     "output_type": "execute_result"
    }
   ],
   "source": [
    "# resample \n",
    "data = data.resample('H',on='Time').mean()\n",
    "data.head()\n",
    "\n",
    "\n"
   ]
  },
  {
   "cell_type": "markdown",
   "metadata": {},
   "source": [
    "**TASK 3: Merge both dataframes** "
   ]
  },
  {
   "cell_type": "code",
   "execution_count": 124,
   "metadata": {},
   "outputs": [],
   "source": [
    "### pd.merge\n",
    "df =  pd.merge(data,era5,how='right',on='Time')"
   ]
  },
  {
   "cell_type": "markdown",
   "metadata": {},
   "source": [
    "**4. Feature engineering**"
   ]
  },
  {
   "cell_type": "code",
   "execution_count": 125,
   "metadata": {},
   "outputs": [
    {
     "data": {
      "text/html": [
       "<div>\n",
       "<style scoped>\n",
       "    .dataframe tbody tr th:only-of-type {\n",
       "        vertical-align: middle;\n",
       "    }\n",
       "\n",
       "    .dataframe tbody tr th {\n",
       "        vertical-align: top;\n",
       "    }\n",
       "\n",
       "    .dataframe thead th {\n",
       "        text-align: right;\n",
       "    }\n",
       "</style>\n",
       "<table border=\"1\" class=\"dataframe\">\n",
       "  <thead>\n",
       "    <tr style=\"text-align: right;\">\n",
       "      <th></th>\n",
       "      <th>Time</th>\n",
       "      <th>WS-90-DD345</th>\n",
       "      <th>WD-100</th>\n",
       "      <th>u100</th>\n",
       "      <th>v100</th>\n",
       "      <th>u10</th>\n",
       "      <th>v10</th>\n",
       "      <th>t2m</th>\n",
       "      <th>d2m</th>\n",
       "      <th>msl</th>\n",
       "      <th>sst</th>\n",
       "      <th>blh</th>\n",
       "      <th>slhf</th>\n",
       "      <th>sshf</th>\n",
       "      <th>ssrd</th>\n",
       "      <th>zust</th>\n",
       "      <th>Datetime</th>\n",
       "      <th>WS-100</th>\n",
       "      <th>Mon</th>\n",
       "      <th>Hour</th>\n",
       "    </tr>\n",
       "  </thead>\n",
       "  <tbody>\n",
       "    <tr>\n",
       "      <th>131491</th>\n",
       "      <td>2014-12-31 19:00:00</td>\n",
       "      <td>NaN</td>\n",
       "      <td>245.103910</td>\n",
       "      <td>10.97779</td>\n",
       "      <td>5.09481</td>\n",
       "      <td>9.16427</td>\n",
       "      <td>4.37564</td>\n",
       "      <td>279.73389</td>\n",
       "      <td>277.65085</td>\n",
       "      <td>102760.93206</td>\n",
       "      <td>280.73300</td>\n",
       "      <td>563.65307</td>\n",
       "      <td>-138682.19138</td>\n",
       "      <td>-20328.86358</td>\n",
       "      <td>0.0</td>\n",
       "      <td>0.40440</td>\n",
       "      <td>2014-12-31 19:00:00</td>\n",
       "      <td>12.102436</td>\n",
       "      <td>12</td>\n",
       "      <td>19</td>\n",
       "    </tr>\n",
       "    <tr>\n",
       "      <th>131492</th>\n",
       "      <td>2014-12-31 20:00:00</td>\n",
       "      <td>NaN</td>\n",
       "      <td>248.329441</td>\n",
       "      <td>12.21188</td>\n",
       "      <td>4.85243</td>\n",
       "      <td>10.21249</td>\n",
       "      <td>4.15487</td>\n",
       "      <td>279.50969</td>\n",
       "      <td>277.58501</td>\n",
       "      <td>102766.98677</td>\n",
       "      <td>280.73300</td>\n",
       "      <td>641.30196</td>\n",
       "      <td>-149375.47904</td>\n",
       "      <td>-30174.42163</td>\n",
       "      <td>0.0</td>\n",
       "      <td>0.44411</td>\n",
       "      <td>2014-12-31 20:00:00</td>\n",
       "      <td>13.140627</td>\n",
       "      <td>12</td>\n",
       "      <td>20</td>\n",
       "    </tr>\n",
       "    <tr>\n",
       "      <th>131493</th>\n",
       "      <td>2014-12-31 21:00:00</td>\n",
       "      <td>NaN</td>\n",
       "      <td>249.974324</td>\n",
       "      <td>12.55300</td>\n",
       "      <td>4.57529</td>\n",
       "      <td>10.45833</td>\n",
       "      <td>3.91146</td>\n",
       "      <td>279.53958</td>\n",
       "      <td>277.68571</td>\n",
       "      <td>102777.62343</td>\n",
       "      <td>280.73300</td>\n",
       "      <td>696.68788</td>\n",
       "      <td>-155992.32002</td>\n",
       "      <td>-40357.81747</td>\n",
       "      <td>0.0</td>\n",
       "      <td>0.47162</td>\n",
       "      <td>2014-12-31 21:00:00</td>\n",
       "      <td>13.360804</td>\n",
       "      <td>12</td>\n",
       "      <td>21</td>\n",
       "    </tr>\n",
       "    <tr>\n",
       "      <th>131494</th>\n",
       "      <td>2014-12-31 22:00:00</td>\n",
       "      <td>NaN</td>\n",
       "      <td>248.384883</td>\n",
       "      <td>12.89223</td>\n",
       "      <td>5.10833</td>\n",
       "      <td>10.26224</td>\n",
       "      <td>4.24120</td>\n",
       "      <td>280.24956</td>\n",
       "      <td>278.30541</td>\n",
       "      <td>102738.84055</td>\n",
       "      <td>280.45983</td>\n",
       "      <td>767.82078</td>\n",
       "      <td>-159300.74051</td>\n",
       "      <td>-37896.42795</td>\n",
       "      <td>0.0</td>\n",
       "      <td>0.47541</td>\n",
       "      <td>2014-12-31 22:00:00</td>\n",
       "      <td>13.867394</td>\n",
       "      <td>12</td>\n",
       "      <td>22</td>\n",
       "    </tr>\n",
       "    <tr>\n",
       "      <th>131495</th>\n",
       "      <td>2014-12-31 23:00:00</td>\n",
       "      <td>NaN</td>\n",
       "      <td>247.772612</td>\n",
       "      <td>12.69663</td>\n",
       "      <td>5.18848</td>\n",
       "      <td>10.24133</td>\n",
       "      <td>4.35441</td>\n",
       "      <td>280.53206</td>\n",
       "      <td>278.24473</td>\n",
       "      <td>102721.65826</td>\n",
       "      <td>280.45983</td>\n",
       "      <td>822.48270</td>\n",
       "      <td>-160659.55607</td>\n",
       "      <td>-18157.04930</td>\n",
       "      <td>0.0</td>\n",
       "      <td>0.47720</td>\n",
       "      <td>2014-12-31 23:00:00</td>\n",
       "      <td>13.715857</td>\n",
       "      <td>12</td>\n",
       "      <td>23</td>\n",
       "    </tr>\n",
       "  </tbody>\n",
       "</table>\n",
       "</div>"
      ],
      "text/plain": [
       "                      Time  WS-90-DD345      WD-100      u100     v100  \\\n",
       "131491 2014-12-31 19:00:00          NaN  245.103910  10.97779  5.09481   \n",
       "131492 2014-12-31 20:00:00          NaN  248.329441  12.21188  4.85243   \n",
       "131493 2014-12-31 21:00:00          NaN  249.974324  12.55300  4.57529   \n",
       "131494 2014-12-31 22:00:00          NaN  248.384883  12.89223  5.10833   \n",
       "131495 2014-12-31 23:00:00          NaN  247.772612  12.69663  5.18848   \n",
       "\n",
       "             u10      v10        t2m        d2m           msl        sst  \\\n",
       "131491   9.16427  4.37564  279.73389  277.65085  102760.93206  280.73300   \n",
       "131492  10.21249  4.15487  279.50969  277.58501  102766.98677  280.73300   \n",
       "131493  10.45833  3.91146  279.53958  277.68571  102777.62343  280.73300   \n",
       "131494  10.26224  4.24120  280.24956  278.30541  102738.84055  280.45983   \n",
       "131495  10.24133  4.35441  280.53206  278.24473  102721.65826  280.45983   \n",
       "\n",
       "              blh          slhf         sshf  ssrd     zust  \\\n",
       "131491  563.65307 -138682.19138 -20328.86358   0.0  0.40440   \n",
       "131492  641.30196 -149375.47904 -30174.42163   0.0  0.44411   \n",
       "131493  696.68788 -155992.32002 -40357.81747   0.0  0.47162   \n",
       "131494  767.82078 -159300.74051 -37896.42795   0.0  0.47541   \n",
       "131495  822.48270 -160659.55607 -18157.04930   0.0  0.47720   \n",
       "\n",
       "                  Datetime     WS-100 Mon Hour  \n",
       "131491 2014-12-31 19:00:00  12.102436  12   19  \n",
       "131492 2014-12-31 20:00:00  13.140627  12   20  \n",
       "131493 2014-12-31 21:00:00  13.360804  12   21  \n",
       "131494 2014-12-31 22:00:00  13.867394  12   22  \n",
       "131495 2014-12-31 23:00:00  13.715857  12   23  "
      ]
     },
     "execution_count": 125,
     "metadata": {},
     "output_type": "execute_result"
    }
   ],
   "source": [
    "df['Datetime'] = pd.to_datetime(df['Time'], format='mixed')\n",
    "df['WS-100']   = np.sqrt(df['u100']*df['u100'] + df['v100']*df['v100'])\n",
    "df['WD-100']   = (180 + np.arctan2(df['u100'], df['v100']) * 180/np.pi)\n",
    "df['Mon']      = df['Datetime'].dt.strftime('%m')\n",
    "df['Hour']     = df['Datetime'].dt.strftime('%H')\n",
    "df.tail()"
   ]
  },
  {
   "cell_type": "markdown",
   "metadata": {},
   "source": [
    "**3. Data exploration**"
   ]
  },
  {
   "cell_type": "code",
   "execution_count": 126,
   "metadata": {},
   "outputs": [
    {
     "data": {
      "text/plain": [
       "<matplotlib.legend.Legend at 0x7f0ae2825a20>"
      ]
     },
     "execution_count": 126,
     "metadata": {},
     "output_type": "execute_result"
    },
    {
     "data": {
      "image/png": "[encoded data removed]",
      "text/plain": [
       "<Figure size 1600x800 with 2 Axes>"
      ]
     },
     "metadata": {},
     "output_type": "display_data"
    }
   ],
   "source": [
    "fig = plt.figure(figsize=(16,8))\n",
    "fig.add_subplot(121)\n",
    "plt.hist(df['WS-90-DD345'],label='Observation')\n",
    "plt.xticks(fontsize= 14)\n",
    "plt.yticks(fontsize= 14)\n",
    "plt.legend(fontsize= 12)\n",
    "\n",
    "fig.add_subplot(122)\n",
    "plt.hist(df['WS-100'],label='ERA-5')\n",
    "plt.xticks(fontsize= 14)\n",
    "plt.yticks(fontsize= 14)\n",
    "plt.legend(fontsize= 12)"
   ]
  },
  {
   "cell_type": "code",
   "execution_count": 127,
   "metadata": {},
   "outputs": [
    {
     "data": {
      "text/plain": [
       "<matplotlib.legend.Legend at 0x7f0a2ff39f90>"
      ]
     },
     "execution_count": 127,
     "metadata": {},
     "output_type": "execute_result"
    },
    {
     "data": {
      "image/png": "[encoded data removed]",
      "text/plain": [
       "<Figure size 1600x800 with 1 Axes>"
      ]
     },
     "metadata": {},
     "output_type": "display_data"
    }
   ],
   "source": [
    "\n",
    "nbins = np.arange(0,30,1)\n",
    "\n",
    "fig = plt.figure(figsize=(16,8))\n",
    "plt.hist(df['WS-100'],nbins,label='ERA-5',alpha=0.5)\n",
    "plt.hist(df['WS-90-DD345'],nbins,label='Observation')\n",
    "plt.xticks(fontsize= 14)\n",
    "plt.yticks(fontsize= 14)\n",
    "plt.legend(fontsize= 12)"
   ]
  },
  {
   "cell_type": "code",
   "execution_count": null,
   "metadata": {},
   "outputs": [],
   "source": []
  },
  {
   "cell_type": "code",
   "execution_count": 128,
   "metadata": {},
   "outputs": [
    {
     "data": {
      "text/plain": [
       "<matplotlib.legend.Legend at 0x7f0a2fddffd0>"
      ]
     },
     "execution_count": 128,
     "metadata": {},
     "output_type": "execute_result"
    },
    {
     "data": {
      "image/png": "[encoded data removed]",
      "text/plain": [
       "<Figure size 1600x800 with 1 Axes>"
      ]
     },
     "metadata": {},
     "output_type": "display_data"
    }
   ],
   "source": [
    "idx  = df[df['WS-90-DD345'].notnull()].index\n",
    "nbins = np.arange(0,30,1)\n",
    "\n",
    "fig = plt.figure(figsize=(16,8))\n",
    "plt.hist(df['WS-90-DD345'].loc[idx],nbins,label='Observation',histtype='step')\n",
    "plt.hist(df['WS-100'].loc[idx],nbins,label='ERA-5',alpha=0.5)\n",
    "plt.xticks(fontsize= 14)\n",
    "plt.yticks(fontsize= 14)\n",
    "plt.legend(fontsize= 12)\n"
   ]
  },
  {
   "cell_type": "markdown",
   "metadata": {},
   "source": [
    "**5. Model development**"
   ]
  },
  {
   "cell_type": "markdown",
   "metadata": {},
   "source": [
    "**5.a. Preprocessing**"
   ]
  },
  {
   "cell_type": "code",
   "execution_count": 129,
   "metadata": {},
   "outputs": [],
   "source": [
    "# choose a value for comparability\n",
    "RSEED     = 42\n",
    "\n",
    "# define how many percent of data should be excluded from training to use it for testing\n",
    "test_size = 0.3\n",
    "\n",
    "# set variables \n",
    "# model data = Features \n",
    "X = pd.DataFrame(df[['WS-100','WD-100','Mon','Hour','blh']])\n",
    "\n",
    "# valid values = observations\n",
    "Y = pd.DataFrame(df['WS-90-DD345'].copy())"
   ]
  },
  {
   "cell_type": "code",
   "execution_count": 130,
   "metadata": {},
   "outputs": [],
   "source": [
    "# remove nan values\n",
    "# find index of nan values\n",
    "idx           = Y[Y.isnull().any(axis=1)].index\n",
    "\n",
    "#find index of valid values\n",
    "valid_values  = Y[Y.notnull().all(axis=1)].index\n",
    "\n",
    "XtoPredict    = X.loc[idx]\n",
    "\n",
    "# features\n",
    "x             = X.loc[valid_values]\n",
    "\n",
    "# target\n",
    "y             = Y.loc[valid_values]\n",
    "xcols         = X.columns"
   ]
  },
  {
   "cell_type": "code",
   "execution_count": 131,
   "metadata": {},
   "outputs": [],
   "source": [
    "# split data into training and test data (https://scikit-learn.org/stable/modules/generated/sklearn.model_selection.train_test_split.html)\n",
    "X_train, X_test, y_train, y_test = train_test_split(x,y,test_size=test_size,random_state=RSEED)"
   ]
  },
  {
   "cell_type": "code",
   "execution_count": 132,
   "metadata": {},
   "outputs": [],
   "source": [
    "# scale data to a common basis (e.g. WS ranges from 0-30 m/s while wind direction from 0 to 360, scaling fits them into a common range)\n",
    "# scaling is done based on trainings data (https://scikit-learn.org/stable/modules/generated/sklearn.preprocessing.StandardScaler.html)\n",
    "X_train_scaled    = scaler.fit_transform(X_train)\n",
    "\n",
    "# scaling procedure is transfered to test data\n",
    "X_test_scaled     = scaler.transform(X_test)   "
   ]
  },
  {
   "cell_type": "markdown",
   "metadata": {},
   "source": [
    "**5.b. Model training**"
   ]
  },
  {
   "cell_type": "code",
   "execution_count": 133,
   "metadata": {},
   "outputs": [],
   "source": [
    "# Preparation\n",
    "# set hyperparameters for ML-model\n",
    "param_grid = {\n",
    "              \"n_neighbors\"       : [2,5,12,30],\n",
    "              \"leaf_size\"         : [3,15,30,40],\n",
    "              \"p\"                 : [1,2],\n",
    "              \"weights\"           : ['uniform', 'distance'],\n",
    "              \"metric\"            : ['euclidean','manhattan','minkowski'] \n",
    "             }\n",
    "\n",
    "# chose which ML model to use (e.g. linear regression, random Forest, Decision tree, AdaBoost, XGBoost, Ridge regression, )\n",
    "# check sklearn + model for correct naming and more information)\n",
    "# consider to import the packages before\n",
    "classifier = KNeighborsRegressor()\n",
    "\n",
    "# how many times shall the cross validation been done\n",
    "n          = 5\n",
    "\n",
    "# according to which metrics shall the performance been tested\n",
    "scoring    = 'neg_mean_squared_error'"
   ]
  },
  {
   "cell_type": "code",
   "execution_count": 134,
   "metadata": {},
   "outputs": [
    {
     "name": "stdout",
     "output_type": "stream",
     "text": [
      "Best score:\n",
      "-1.64\n",
      "Best parameters:\n",
      "{'leaf_size': 3, 'metric': 'manhattan', 'n_neighbors': 5, 'p': 1, 'weights': 'distance'}\n"
     ]
    }
   ],
   "source": [
    "# train the model\n",
    "# GridSearch finds the best parameter combination for the model for which the score is minimal. \n",
    "# A cross validation is done to compare results from different subsets, \n",
    "# https://scikit-learn.org/stable/modules/generated/sklearn.model_selection.GridSearchCV.html)\n",
    "grid_model = GridSearchCV(classifier, param_grid=param_grid, cv=n, scoring=scoring,\\\n",
    "                                  verbose=0, n_jobs=-1).fit(X_train_scaled, y_train)\n",
    "\n",
    "best_model = grid_model.best_estimator_\n",
    "print('Best score:\\n{:.2f}'.format(grid_model.best_score_))\n",
    "print(\"Best parameters:\\n{}\".format(grid_model.best_params_))\n"
   ]
  },
  {
   "cell_type": "code",
   "execution_count": 135,
   "metadata": {},
   "outputs": [],
   "source": [
    "# make predictions using the trainings to check model performance\n",
    "# https://scikit-learn.org/stable/modules/generated/sklearn.model_selection.cross_val_predict.html\n",
    "y_train_cv      = cross_val_predict(best_model, X_train_scaled, y_train, cv=n+2)"
   ]
  },
  {
   "cell_type": "code",
   "execution_count": 136,
   "metadata": {},
   "outputs": [],
   "source": [
    "#Prepare printout\n",
    "def print_performance(y_predicted,y_true):\n",
    "    print('Validation scores:')\n",
    "    print('-------------------------')\n",
    "    print('R2-Score: ',round(r2_score(y_true, y_predicted),4))\n",
    "    print('MSE: ',mean_squared_error(y_true, y_predicted).round(4))\n",
    "    print('RMSE: ',root_mean_squared_error(y_true, y_predicted).round(4))\n",
    "    print('MAE: ',mean_absolute_error(y_true, y_predicted).round(4))\n",
    "    print('MAPE: ',(mean_absolute_percentage_error(y_true, y_predicted)*100).round(4))"
   ]
  },
  {
   "cell_type": "code",
   "execution_count": 137,
   "metadata": {},
   "outputs": [
    {
     "name": "stdout",
     "output_type": "stream",
     "text": [
      "Validation scores:\n",
      "-------------------------\n",
      "R2-Score:  0.9218\n",
      "MSE:  1.6026\n",
      "RMSE:  1.2659\n",
      "MAE:  0.9141\n",
      "MAPE:  13.2275\n"
     ]
    }
   ],
   "source": [
    "# print performance from cross validation (trainingsdata only)\n",
    "print_performance(y_train_cv,y_train)"
   ]
  },
  {
   "cell_type": "code",
   "execution_count": 138,
   "metadata": {},
   "outputs": [
    {
     "name": "stdout",
     "output_type": "stream",
     "text": [
      "Validation scores:\n",
      "-------------------------\n",
      "R2-Score:  0.8914\n",
      "MSE:  2.2272\n",
      "RMSE:  1.4924\n",
      "MAE:  1.0974\n",
      "MAPE:  14.6078\n"
     ]
    }
   ],
   "source": [
    "# print same values for raw data (without any correction, for comparison) \n",
    "print_performance(x['WS-100'],y)"
   ]
  },
  {
   "cell_type": "markdown",
   "metadata": {},
   "source": [
    "**6. Verification**"
   ]
  },
  {
   "cell_type": "code",
   "execution_count": 139,
   "metadata": {},
   "outputs": [
    {
     "name": "stdout",
     "output_type": "stream",
     "text": [
      "Validation scores:\n",
      "-------------------------\n",
      "R2-Score:  0.9265\n",
      "MSE:  1.5105\n",
      "RMSE:  1.229\n",
      "MAE:  0.8756\n",
      "MAPE:  12.9463\n"
     ]
    }
   ],
   "source": [
    "# predict values using trained model and test data (features)\n",
    "y_test_predicted = best_model.predict(X_test_scaled)\n",
    "\n",
    "# print performance of model using test data\n",
    "print_performance(y_test_predicted,y_test)"
   ]
  },
  {
   "cell_type": "markdown",
   "metadata": {},
   "source": [
    "**8. Make your predictions**"
   ]
  },
  {
   "cell_type": "code",
   "execution_count": 140,
   "metadata": {},
   "outputs": [],
   "source": [
    "# make your final prediction for the entire (long-term) period\n",
    "X_scaledN               = scaler.transform(X)\n",
    "predictions             = best_model.predict(X_scaledN)"
   ]
  },
  {
   "cell_type": "code",
   "execution_count": 141,
   "metadata": {},
   "outputs": [
    {
     "data": {
      "text/plain": [
       "<matplotlib.legend.Legend at 0x7f0981ae2fb0>"
      ]
     },
     "execution_count": 141,
     "metadata": {},
     "output_type": "execute_result"
    },
    {
     "data": {
      "image/png": "[encoded data removed]",
      "text/plain": [
       "<Figure size 640x480 with 1 Axes>"
      ]
     },
     "metadata": {},
     "output_type": "display_data"
    }
   ],
   "source": [
    "# plot raw data \n",
    "plt.plot(df['WS-90-DD345'].loc[valid_values],df['WS-100'].loc[valid_values],'.',label='raw data')\n",
    "plt.plot(df['WS-90-DD345'].loc[valid_values],predictions[valid_values],'.',label='after correction',color='r')\n",
    "plt.legend()"
   ]
  },
  {
   "cell_type": "code",
   "execution_count": 143,
   "metadata": {},
   "outputs": [
    {
     "data": {
      "text/plain": [
       "<matplotlib.legend.Legend at 0x7f0ae0727610>"
      ]
     },
     "execution_count": 143,
     "metadata": {},
     "output_type": "execute_result"
    },
    {
     "data": {
      "image/png": "[encoded data removed]",
      "text/plain": [
       "<Figure size 1600x800 with 1 Axes>"
      ]
     },
     "metadata": {},
     "output_type": "display_data"
    }
   ],
   "source": [
    "nbins = np.arange(0,30,1)\n",
    "\n",
    "fig = plt.figure(figsize=(16,8))\n",
    "plt.hist(df['WS-90-DD345'].loc[valid_values],nbins,label='Observation',histtype='step')\n",
    "plt.hist(df['WS-100'].loc[valid_values],nbins,label='ERA-5',histtype='step')\n",
    "plt.hist(predictions[valid_values],nbins,label='ERA-5_corrected',alpha=0.5)\n",
    "plt.xticks(fontsize= 14)\n",
    "plt.yticks(fontsize= 14)\n",
    "plt.legend(fontsize= 12)"
   ]
  },
  {
   "cell_type": "markdown",
   "metadata": {},
   "source": [
    "**7. Workflow tuning**"
   ]
  },
  {
   "cell_type": "markdown",
   "metadata": {},
   "source": [
    "**TASK 4: Test another ML Regressor**"
   ]
  },
  {
   "cell_type": "markdown",
   "metadata": {},
   "source": [
    "**TASK 5: Test another Feature setting** "
   ]
  },
  {
   "cell_type": "markdown",
   "metadata": {},
   "source": [
    "**TASK 6: Test MCP with only 1 year of data for training**"
   ]
  },
  {
   "cell_type": "code",
   "execution_count": null,
   "metadata": {},
   "outputs": [],
   "source": []
  },
  {
   "cell_type": "code",
   "execution_count": null,
   "metadata": {},
   "outputs": [],
   "source": []
  },
  {
   "cell_type": "markdown",
   "metadata": {},
   "source": [
    "## Literature recommendation:\n",
    "\n",
    "**Book:** Hands-On Machine Learning with Scikit-Learn, Keras, and TensorFlow, 2nd Edition by Aurélien Géron, ISBN: 9781492032649\n",
    "\n",
    "**Videos (short):** Statquest (https://www.youtube.com/playlist?list=PLblh5JKOoLUICTaGLRoHQDuF_7q2GfuJF)\n",
    "\n",
    "**Training possibilities:** \\\n",
    "Kaggle (https://www.kaggle.com/) \\\n",
    "Code Wars (https://www.codewars.com/)"
   ]
  },
  {
   "cell_type": "code",
   "execution_count": null,
   "metadata": {},
   "outputs": [],
   "source": []
  },
  {
   "cell_type": "code",
   "execution_count": null,
   "metadata": {},
   "outputs": [],
   "source": []
  },
  {
   "cell_type": "code",
   "execution_count": null,
   "metadata": {},
   "outputs": [],
   "source": []
  }
 ],
 "metadata": {
  "kernelspec": {
   "display_name": "myEnv",
   "language": "python",
   "name": "python3"
  },
  "language_info": {
   "codemirror_mode": {
    "name": "ipython",
    "version": 3
   },
   "file_extension": ".py",
   "mimetype": "text/x-python",
   "name": "python",
   "nbconvert_exporter": "python",
   "pygments_lexer": "ipython3",
   "version": "3.10.12"
  }
 },
 "nbformat": 4,
 "nbformat_minor": 4
}
