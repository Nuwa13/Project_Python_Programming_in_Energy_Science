{
 "cells": [
  {
   "cell_type": "markdown",
   "metadata": {},
   "source": [
    "# <center> Python Programming in Energy Science </center>\n",
    "\n",
    "## <center> Lecture 1, 9 April 2025 </center>\n",
    "\n",
    "<img src=\"files/python_logo.png\" width=\"300\" />\n",
    "\n",
    "-------------------------------\n",
    "\n",
    "### **Contents**\n",
    "0. Welcome! Organization of this course\n",
    "1. Getting started with object orientation\n",
    "\n",
    "--------------------------------"
   ]
  },
  {
   "cell_type": "markdown",
   "metadata": {},
   "source": [
    "# (0) Welcome! Organization of this course"
   ]
  },
  {
   "cell_type": "markdown",
   "metadata": {},
   "source": [
    "## (0.0) Lecturers and Tutors"
   ]
  },
  {
   "cell_type": "markdown",
   "metadata": {},
   "source": [
    "| Name             | Room    | Email                                 |\n",
    "|:----------------:|:-------:|:-------------------------------------:|\n",
    "|Balthazar Sengers |W33 2-220|balthazar.sengers@uni-oldenburg.de     |\n",
    "|Jonas Schulte     |W33 2-215|jonas.schulte@iwes.fraunhofer.de       |\n",
    "|Lukas Vollmer     |W33 2-215|lukas.vollmer@iwes.fraunhofer.de       |\n",
    "|Martin Dörenkämper|W33 2-215|martin.doerenkaemper@iwes.fraunhofer.de|\n",
    "|Hassan Kassem     |W33 2-217|hassan.kassem@iwes.fraunhofer.de       |\n",
    "|Sandra Schwegmann |W33 2-217|sandra.schwegmann@iwes.fraunhofer.de   |\n",
    "|Johanna Borowski  |W33 2-219|johanna.borowski@iwes.fraunhofer.de    |"
   ]
  },
  {
   "cell_type": "markdown",
   "metadata": {},
   "source": [
    "## (0.1) Course format"
   ]
  },
  {
   "cell_type": "markdown",
   "metadata": {},
   "source": [
    "This course\n",
    "- is on the master level, offering <font color=blue>**3 CP**</font>\n",
    "- successful completion of an introductory course is <font color=red>**mandatory**</font>, see (5.06.M113\tPython Programming and Modelling)\n",
    "- accepts **50** participants as candidates for CP\n",
    "- will provide <font color=green>**jupyter notebooks**</font> for lecture material via Stud.IP\n",
    "- will be held in in person"
   ]
  },
  {
   "cell_type": "markdown",
   "metadata": {},
   "source": [
    "## (0.2) Schedule"
   ]
  },
  {
   "cell_type": "markdown",
   "metadata": {},
   "source": [
    "Lecture and assignment overview:\n",
    "\n",
    "| Date       | Lecture     | Topic        | \n",
    "|:----------:|:-----------:|:------------:|\n",
    "|09.04.2025\t | 1 | Intro + OOP        |            \n",
    "|16.04.2025\t | 2 | Machine Learning       |\t\n",
    "|23.04.2025\t | 3 | Advanced pandas        |\t\n",
    "|30.04.2025\t | 4 | FOXES                  | \n",
    "|07.05.2025\t | 5  | Advance plotting + project introduction   | \n",
    "|14.05.2025\t |   | Project (MCP)          |    \n",
    "|21.05.2025\t |   | Project (MCP)          |\t   \n",
    "|28.05.2025\t |   | Project (FOXES)        |\t\n",
    "|04.06.2025\t |   | Project progress demonstrations         |  \n",
    "|11.06.2025\t |   | Project (FOXES)                | \n",
    "|18.06.2025\t |   | Project (FOXES)               |   \n",
    "|25.06.2025\t |   | Project (FOXES)               | \n",
    "|02.07.2025\t |   | Final project presentations          |    \n",
    "|09.07.2025\t |   | Extra          |    "
   ]
  },
  {
   "cell_type": "markdown",
   "metadata": {},
   "source": [
    "Lectures:\n",
    "- Background information and coding examples\n",
    "\n",
    "Project:\n",
    "- Detailed information given on 07.05.25: please be present!\n",
    "- Wind energy related project, mimicking projects similar to what we are working on\n",
    "- 7 weeks 'tutorials' where lecturers will be present to answer questions\n",
    "\n",
    "Final presentation:\n",
    "- Demonstrate your project according to scientific conference format:\n",
    "- Introduction (background, motivation)\n",
    "- Methodology\n",
    "- Results + Discussion\n",
    "- Conclusion + outlook"
   ]
  },
  {
   "cell_type": "markdown",
   "metadata": {},
   "source": [
    "## (0.3) Credit points requirements"
   ]
  },
  {
   "cell_type": "markdown",
   "metadata": {},
   "source": [
    "Grading:\n",
    "- 80 % project\n",
    "- 20 % presentation\n",
    "\n",
    "Time invested:\n",
    "- 3 CP = 75-90 h\n",
    "- Wednesday sessions: 13 * 2 = 26h \n",
    "- **Homework: 50+ h!**"
   ]
  },
  {
   "cell_type": "markdown",
   "metadata": {},
   "source": [
    "# (1) Getting started with object orientation"
   ]
  },
  {
   "cell_type": "markdown",
   "metadata": {},
   "source": [
    "## Do we have other types of programming methods?\n",
    "\n",
    "- Procedural programming\n",
    "- Functional programming\n",
    "- Object-oriented programming\n",
    "\n",
    "<font color=blue>*Each programming langue can support one or more technique*</font>    "
   ]
  },
  {
   "cell_type": "markdown",
   "metadata": {},
   "source": [
    "## Why OOP?\n",
    "\n",
    "For large programming tasks that are to be developed in a sustainable, flexible and continuous manner, <font color=red>**\"the best choice\"**</font>  of programming strategy is often based on object-oriented programming approaches.\n",
    "\n"
   ]
  },
  {
   "cell_type": "markdown",
   "metadata": {},
   "source": []
  },
  {
   "cell_type": "markdown",
   "metadata": {},
   "source": [
    "## (1.0) Blueprints and individuals"
   ]
  },
  {
   "cell_type": "markdown",
   "metadata": {},
   "source": [
    "\n",
    "Object oriented programming is mostly about inventing a **modular structure** of the different code ingredients that you need for the task - as we will see, it makes a lot of sense to invest a significant amount of time into **planning the components, their responsibilities, and their interactions** when attacking a problem.\n",
    "\n",
    "The basic steps are simple:\n",
    "1. Invent your own <font color=blue>**classes**</font>: Each class is a <font color=blue>blueprint</font> defining a component type that your code needs.\n",
    "2. Create <font color=red>**objects**</font> (also called <font color=red>**instances**</font>) of these classes: As many <font color=red>individuals</font> of the same blueprint as you need.\n",
    "3. <font color=green>**Use the objects**</font> and let them communicate, doing the job they are meant to do.\n",
    "\n",
    "We create our first class, called **Agent** as follows:"
   ]
  },
  {
   "cell_type": "code",
   "execution_count": 20,
   "metadata": {},
   "outputs": [],
   "source": [
    "# This is the most simple class one could possibly define,\n",
    "# with no functionality whatsoever:\n",
    "\n",
    "class Agent:\n",
    "    pass"
   ]
  },
  {
   "cell_type": "markdown",
   "metadata": {},
   "source": [
    "Every class comes with a function with the same name as the class, here \"Agent()\". Here this is automatically added by Python, doing nothing.\n",
    "\n",
    "This function is called (important vocabulary!) the <font color=red>**constructor**</font> of the class. It returns a new object of the class, which we can store in a variable:"
   ]
  },
  {
   "cell_type": "code",
   "execution_count": 21,
   "metadata": {},
   "outputs": [
    {
     "name": "stdout",
     "output_type": "stream",
     "text": [
      "Agent 0: type = <class '__main__.Agent'> , id = 140412971405552 , x = 2\n",
      "Agent 1: type = <class '__main__.Agent'> , id = 140412971406176 , x = 3\n"
     ]
    }
   ],
   "source": [
    "# This creates two objects of the same class:\n",
    "agent0 = Agent()\n",
    "agent1 = Agent()\n",
    "\n",
    "# We can use the object of the above empty class as containers for variables,\n",
    "# but simply assigning and thereby creating them:\n",
    "agent0.x = 2\n",
    "agent1.x = 3\n",
    "\n",
    "# Let's confirm that the two objects are actually different individuals:\n",
    "print(\"Agent 0: type =\", type(agent0), \", id =\", id(agent0), \", x =\", agent0.x)\n",
    "print(\"Agent 1: type =\", type(agent1), \", id =\", id(agent1), \", x =\", agent1.x)"
   ]
  },
  {
   "cell_type": "markdown",
   "metadata": {},
   "source": [
    "## (1.1) Classes and objects can store data, constructors can initialize the latter"
   ]
  },
  {
   "cell_type": "markdown",
   "metadata": {},
   "source": [
    "We can write our own constructors, by adding the special function **__init__** . We will meet other strange looking functions like this with these double underscores:"
   ]
  },
  {
   "cell_type": "code",
   "execution_count": 24,
   "metadata": {},
   "outputs": [],
   "source": [
    "# Now we re-define the class with our own constructor,\n",
    "# needing two parameters:\n",
    "\n",
    "class Agent:\n",
    "\n",
    "    def __init__(self, x, y):\n",
    "        self.x = x\n",
    "        self.y = y"
   ]
  },
  {
   "cell_type": "markdown",
   "metadata": {},
   "source": [
    "Note the usage of **self**, which is always used _from within the class_ when addressing object-stored data. The first parameter of any function defined within a class always represent the object itself, conventionally this object is called **self** .\n",
    "\n",
    "In short, from outside you use _objectName.x_ , and from inside _self.x_ whenever you are using the attribute _x_ .\n",
    "\n",
    "**Vocabulary:** The data stored inside an object are often called <font color=red>**attributes**</font>, also <font color=red>**member data**</font>."
   ]
  },
  {
   "cell_type": "code",
   "execution_count": 26,
   "metadata": {},
   "outputs": [
    {
     "name": "stdout",
     "output_type": "stream",
     "text": [
      "Agent 0: x = 0 , y = 0\n",
      "Agent 1: x = 100.0 , y = 200.0\n"
     ]
    }
   ],
   "source": [
    "# This creates two objects of the class, with different data:\n",
    "agent0 = Agent(0, 0)\n",
    "agent1 = Agent(100., 200.)\n",
    "\n",
    "# We can access the agent's data by the dot:\n",
    "print(\"Agent 0: x =\", agent0.x, \", y =\", agent0.y)\n",
    "print(\"Agent 1: x =\", agent1.x, \", y =\", agent1.y)"
   ]
  },
  {
   "cell_type": "code",
   "execution_count": 6,
   "metadata": {},
   "outputs": [
    {
     "name": "stdout",
     "output_type": "stream",
     "text": [
      "Agent 0: x = -50.5 , y = 0.0\n"
     ]
    }
   ],
   "source": [
    "# Of course we can still modify the data directly:\n",
    "agent0.x = -50.5\n",
    "print(\"Agent 0: x =\", agent0.x, \", y =\", agent0.y)"
   ]
  },
  {
   "cell_type": "markdown",
   "metadata": {},
   "source": [
    "We can also define data on the **class level**:"
   ]
  },
  {
   "cell_type": "code",
   "execution_count": 27,
   "metadata": {},
   "outputs": [],
   "source": [
    "# class with class-wide defined data 'speed':\n",
    "\n",
    "class Agent:\n",
    "    \n",
    "    speed = 5.0\n",
    "    \n",
    "    def __init__(self, x, y):\n",
    "        self.x = x\n",
    "        self.y = y"
   ]
  },
  {
   "cell_type": "code",
   "execution_count": 28,
   "metadata": {},
   "outputs": [
    {
     "name": "stdout",
     "output_type": "stream",
     "text": [
      "All agents have speed = 5.0 m/s.\n"
     ]
    }
   ],
   "source": [
    "# class-wide data can be accessed without an object:\n",
    "print(\"All agents have speed =\", Agent.speed, \"m/s.\")"
   ]
  },
  {
   "cell_type": "code",
   "execution_count": 29,
   "metadata": {},
   "outputs": [
    {
     "name": "stdout",
     "output_type": "stream",
     "text": [
      "Agent 0: speed = 5.0\n",
      "Agent 1: speed = 5.0\n"
     ]
    }
   ],
   "source": [
    "# Class-wide data is also accessible via objects:\n",
    "agent0 = Agent(0.,0.)\n",
    "agent1 = Agent(100.,200.)\n",
    "\n",
    "print(\"Agent 0: speed =\", agent0.speed)\n",
    "print(\"Agent 1: speed =\", agent1.speed)"
   ]
  },
  {
   "cell_type": "code",
   "execution_count": 10,
   "metadata": {},
   "outputs": [
    {
     "name": "stdout",
     "output_type": "stream",
     "text": [
      "Agent 0: speed = 7.0\n",
      "Agent 1: speed = 7.0\n"
     ]
    }
   ],
   "source": [
    "# changes of class-wide data are visible by all objects:\n",
    "Agent.speed = 7.\n",
    "\n",
    "print(\"Agent 0: speed =\", agent0.speed)\n",
    "print(\"Agent 1: speed =\", agent1.speed)"
   ]
  },
  {
   "cell_type": "code",
   "execution_count": 30,
   "metadata": {},
   "outputs": [
    {
     "name": "stdout",
     "output_type": "stream",
     "text": [
      "Agent 0: speed = 10.0\n",
      "Agent 1: speed = 5.0\n"
     ]
    }
   ],
   "source": [
    "# However, we can overwrite it also individually:\n",
    "agent0.speed = 10.\n",
    "\n",
    "print(\"Agent 0: speed =\", agent0.speed)\n",
    "print(\"Agent 1: speed =\", agent1.speed)"
   ]
  },
  {
   "cell_type": "markdown",
   "metadata": {},
   "source": [
    "Python searches attributes first at the object level, then at the class level."
   ]
  },
  {
   "cell_type": "markdown",
   "metadata": {},
   "source": [
    "## (1.2) Classes can have methods - doing each individual's job"
   ]
  },
  {
   "cell_type": "markdown",
   "metadata": {},
   "source": [
    "We have already seen the function **init** defined within the class. This was a so-called special function, indicated by the double double underscore embedding. \n",
    "\n",
    "**Vocabulary:** Functions which are defined in classes are often called <font color=red>**methods**</font> or <font color=red>**member functions**</font>, and we will use these terms without distinction. Try not to get confused about this (and the rest of the new vocabulary).\n",
    "\n",
    "We can easily implement additional methods by simply defining functions within the class, i.e., one indentation level above the class definition. Their first parameter always refers to the object's self-reference, for any method - whatever it's job might be. This first argument should be called **self**, following a very wide-spread convention:"
   ]
  },
  {
   "cell_type": "code",
   "execution_count": null,
   "metadata": {},
   "outputs": [],
   "source": [
    "# class with a method 'update',\n",
    "# moving the coordinates xy by the\n",
    "# velocity vector uv:\n",
    "\n",
    "class Agent:\n",
    "    \n",
    "    delta_t   = 1.0\n",
    "    max_speed = 1.0\n",
    "    \n",
    "    def __init__(self, xy, uv):\n",
    "        self.xy = xy\n",
    "        self.uv = uv\n",
    "    \n",
    "    def update(self):\n",
    "        \"\"\" This method updates the agent's position \"\"\"\n",
    "\n",
    "        speed = np.linalg.norm(self.uv)\n",
    "        if speed > self.max_speed:\n",
    "            self.uv *= self.max_speed / speed\n",
    "\n",
    "        self.xy += self.uv * self.delta_t\n"
   ]
  },
  {
   "cell_type": "markdown",
   "metadata": {},
   "source": [
    "The above class defines for each agent a position (x,y) and a velocity vector (u,v). The update method then moves the agent, i.e., it changes the position according to the velocity vector and the time step delta. Also, the velocity is restricted to the maximal movement speed.\n",
    "\n",
    "We can now see this in action. For this we first define a function that shows the movement of agents in an animation:"
   ]
  },
  {
   "cell_type": "code",
   "execution_count": 33,
   "metadata": {},
   "outputs": [],
   "source": [
    "\n",
    "# this switches on the interactive mode of pyplot,\n",
    "# only needed if you copy the code into a python module,\n",
    "# i.e., not inside a jupyter notebook:\n",
    "#plt.ion()\n",
    "\n",
    "# def show_animation(agents, all_xy, xmax, ymax, steps):\n",
    "#     \"\"\" This function visualizes the movements of the given agents\n",
    "#         in an animation \"\"\"\n",
    "\n",
    "#     # initialize figure for output:\n",
    "#     fig = plt.figure()\n",
    "#     ax  = fig.add_subplot(111)\n",
    "#     ax.set_xlim(0, xmax)\n",
    "#     ax.set_ylim(0, ymax)\n",
    "\n",
    "#     # initial plot of agent positions:\n",
    "#     ln, = ax.plot(all_xy[:, 0], all_xy[:, 1], 'ro')\n",
    "\n",
    "#     # loop over all time steps:\n",
    "#     for _ in range(steps):\n",
    "\n",
    "#         # update all agents:\n",
    "#         for a in agents:\n",
    "\n",
    "#             # this calls the method 'update', note there is no 'self', but <objectName>.dot:\n",
    "#             a.update()\n",
    "\n",
    "#         # update the figure:\n",
    "#         ln.set_data(all_xy[:, 0], all_xy[:, 1])\n",
    "#         fig.canvas.draw()\n",
    "#         fig.canvas.flush_events()\n",
    "    \n",
    "#     # remove figure from memory:\n",
    "#     plt.close(fig)\n",
    "\n",
    "# first, we will need these libraries:\n",
    "import numpy as np\n",
    "import matplotlib.pyplot as plt\n",
    "import matplotlib.animation as animation\n",
    "\n",
    "def show_animation(agents, all_xy, xmax, ymax, steps, out_file=\"animation.mp4\"):\n",
    "    \"\"\" This function creates an animation of the movements of the given agents \"\"\"\n",
    "    \n",
    "    # initialize figure for output:\n",
    "    fig, ax = plt.subplots()\n",
    "    ax.set_xlim(0, xmax)\n",
    "    ax.set_ylim(0, ymax)\n",
    "\n",
    "    # initial plot of agent positions:\n",
    "    ln, = ax.plot(all_xy[:, 0], all_xy[:, 1], 'ro')\n",
    "\n",
    "    def update(frame):\n",
    "        \"\"\" Update function for the animation \"\"\"\n",
    "        \n",
    "        # update all agents:\n",
    "        for a in agents:\n",
    "            a.update()\n",
    "        \n",
    "        # update the figure:\n",
    "        ln.set_data(all_xy[:, 0], all_xy[:, 1])\n",
    "    \n",
    "    # create the animation:\n",
    "    ani = animation.FuncAnimation(fig, update, frames=steps, blit=False)\n",
    "\n",
    "    # save the animation as a widget:\n",
    "    # ani.save('animation.html', writer='html')\n",
    "    ani.save(out_file, writer='ffmpeg')\n",
    "    plt.close(fig)"
   ]
  },
  {
   "cell_type": "markdown",
   "metadata": {},
   "source": [
    "To save this .mp4, we need to have the ffmpeg module installed.\n",
    "\n",
    "In your terminal / anaconda prompt, execute:\n",
    "\n",
    "conda install conda-forge::ffmpeg\n",
    "\n",
    "or you can:\n",
    "\n",
    "sudo apt install ffmpeg"
   ]
  },
  {
   "cell_type": "code",
   "execution_count": 34,
   "metadata": {},
   "outputs": [],
   "source": [
    "# now we can use the above function,\n",
    "# and create an animation.\n",
    "\n",
    "# Parameters for this run:\n",
    "\n",
    "N     = 80   # the number of agents\n",
    "X     = 50.  # size of the initial position distribution\n",
    "steps = 100  # the number of time steps\n",
    "v     = 1.   # maximal agent speed\n",
    "dt    = 1.   # the time step\n",
    "xmax  = 3*X  # figure size x\n",
    "ymax  = 3*X  # figure size y\n",
    "\n",
    "\n",
    "# set class wide data, will be relevant for all agents:\n",
    "Agent.max_speed = v\n",
    "Agent.delta_t   = dt\n",
    "\n",
    "# initial positions and velocity vectors:\n",
    "all_xy = X * np.random.rand(N, 2)\n",
    "all_uv = v * np.random.rand(N, 2)\n",
    "\n",
    "# create N agents, all extra parameters in 'kwargs'\n",
    "# are passed to the\n",
    "agents = [Agent(all_xy[i], all_uv[i]) for i in range(N)]\n",
    "\n",
    "# create animation:\n",
    "show_animation(agents, all_xy, xmax, ymax, steps, out_file=\"animation0.mp4\")"
   ]
  },
  {
   "cell_type": "markdown",
   "metadata": {},
   "source": [
    "## (1.3) Derived classes inherit data and functionality - and may extend or modify"
   ]
  },
  {
   "cell_type": "markdown",
   "metadata": {},
   "source": [
    "You can create a class that is <font color=red>**derived**</font> from an existing class by writing\n",
    "\n",
    "```\n",
    "class B(A):\n",
    "    ...\n",
    "```\n",
    "\n",
    "or in our example:\n",
    "\n",
    "```\n",
    "class SpecialAgent(Agent):\n",
    "   < data and functions that make the SpecialAgent so special, beyond what the Agent can do >\n",
    "```"
   ]
  },
  {
   "cell_type": "markdown",
   "metadata": {},
   "source": [
    "The main point of this is that the derived class contains all data and all methods of the parent class, but it can add more - or even modify the functions. This is sketched here:\n",
    "\n",
    "![class_inheritance](files/class_inher.png) \n",
    "\n",
    "**Vocabulary:** It is common to state that the data and the methods are <font color=red>**inherited**</font> from the <font color=blue>parent</font> or <font color=blue>base</font> class, and the relation of base and derived classes is called <font color=red>**inheritance**</font>.\n",
    "\n",
    "So, let's give it a try. We now want to create a new class **Bird**, derived from the before defined class **Agent**, which can also move as the Agent but avoids collisions. The idea is, that each bird takes care of itself and corrects its velocity accordingly. But first, let's look at a simple derived class containing only a constructor:"
   ]
  },
  {
   "cell_type": "code",
   "execution_count": 15,
   "metadata": {},
   "outputs": [],
   "source": [
    "class Bird(Agent):\n",
    "    \n",
    "    def __init__(self, xy, uv, agent_list):\n",
    "        \n",
    "        # the parameters xy and uv of are needed by\n",
    "        # the constructor of the underlying Agent class. \n",
    "        # This can be reached by the python function super():\n",
    "        super().__init__(xy, uv)\n",
    "        \n",
    "        # we store a reference to all agents,\n",
    "        # since we want to avoid collisions\n",
    "        # with any of them:\n",
    "        self.agent_list = agent_list\n",
    "        "
   ]
  },
  {
   "cell_type": "code",
   "execution_count": 35,
   "metadata": {},
   "outputs": [
    {
     "name": "stdout",
     "output_type": "stream",
     "text": [
      "Bird b:\n",
      "  xy         = [0. 0.]\n",
      "  uv         = [0.5 0. ]\n",
      "  delta_t    = 1.0\n",
      "  max_speed  = 1.0\n",
      "  agent_list = []\n"
     ]
    }
   ],
   "source": [
    "# Let's create such a bird now, without any potential\n",
    "# neighbours, i.e. an empty agent_list:\n",
    "b = Bird(\n",
    "    xy=np.array([0.,0.]), \n",
    "    uv=np.array([0.5,0.]),\n",
    "    agent_list=[]\n",
    ")\n",
    "\n",
    "# this bird contains all data that are defined inside the Agent class:\n",
    "print(\"Bird b:\")\n",
    "print(\"  xy         =\", b.xy)\n",
    "print(\"  uv         =\", b.uv)\n",
    "print(\"  delta_t    =\", b.delta_t)\n",
    "print(\"  max_speed  =\", b.max_speed)\n",
    "\n",
    "# the bird also has additional data:\n",
    "print(\"  agent_list =\", b.agent_list)"
   ]
  },
  {
   "cell_type": "code",
   "execution_count": 36,
   "metadata": {},
   "outputs": [
    {
     "name": "stdout",
     "output_type": "stream",
     "text": [
      "Bird b after update:\n",
      "  xy        = [0.5 0. ]\n",
      "  uv        = [0.5 0. ]\n"
     ]
    }
   ],
   "source": [
    "# also the methods from Agent are available for birds:\n",
    "b.update()\n",
    "\n",
    "print(\"Bird b after update:\")\n",
    "print(\"  xy        =\", b.xy)\n",
    "print(\"  uv        =\", b.uv)"
   ]
  },
  {
   "cell_type": "code",
   "execution_count": 18,
   "metadata": {},
   "outputs": [],
   "source": [
    "# We can add data and methods to the derived class,\n",
    "# which do not exist in the base class:\n",
    "\n",
    "class Bird(Agent):\n",
    "    \n",
    "    # check for collisions within this radius:\n",
    "    r = 5.\n",
    "    \n",
    "    def __init__(self, xy, uv, agent_list):\n",
    "        \n",
    "        # the parameters xy and uv of are needed by\n",
    "        # the constructor of the underlying Agent class. \n",
    "        # This can be reached by the python function super():\n",
    "        super().__init__(xy, uv)\n",
    "        \n",
    "        # we store a reference to all agents,\n",
    "        # since we want to avoid collisions\n",
    "        # with any of them:\n",
    "        self.agent_list = agent_list\n",
    "    \n",
    "    def calc_separation(self):\n",
    "        \"\"\" This method returns a velocity vector \n",
    "            that tries to avoid collisions of this\n",
    "            bird with other birds, within radius r \"\"\"\n",
    "        \n",
    "        uv = np.zeros(2)\n",
    "        \n",
    "        # loop over agents:\n",
    "        count = 0\n",
    "        for a in self.agent_list:\n",
    "            \n",
    "            # only treat other agents, not myself:\n",
    "            if a is not self:\n",
    "                \n",
    "                # calc distance to other agent, delta outwards:\n",
    "                delta = self.xy - a.xy\n",
    "                dist  = np.linalg.norm(delta)\n",
    "                \n",
    "                # check if the other agent is near:\n",
    "                if dist < self.r:\n",
    "                    \n",
    "                    # add contribution to velocity, weighted by 1/dist:\n",
    "                    uv    += delta / self.delta_t / max(dist, 1.e-12)\n",
    "                    count += 1\n",
    "        \n",
    "        # average of contributing neighbors:\n",
    "        if count > 0:\n",
    "            uv /= count\n",
    "\n",
    "        # restrict this correction to max speed:\n",
    "        m = np.linalg.norm(uv)\n",
    "        if m > self.max_speed:\n",
    "            uv *= self.max_speed / m\n",
    "            \n",
    "        return uv\n",
    "    \n",
    "    def update(self):\n",
    "        \"\"\" This overloads the update method of the base class,\n",
    "            including the collision correction \"\"\"\n",
    "        \n",
    "        # apply collision correction:\n",
    "        uv_sep   = self.calc_separation()\n",
    "        self.uv += uv_sep\n",
    "        \n",
    "        # now run the base class update function,\n",
    "        # using the corrected self.uv:\n",
    "        super().update()\n",
    "        "
   ]
  },
  {
   "cell_type": "code",
   "execution_count": 19,
   "metadata": {},
   "outputs": [],
   "source": [
    "# now let's look at the animation:\n",
    "\n",
    "# Parameters for this run:\n",
    "\n",
    "N     = 100      # the number of agents\n",
    "X     = 50.      # size of the initial position distribution\n",
    "steps = 100      # the number of time steps\n",
    "v     = 1.       # maximal agent speed\n",
    "dt    = 1.       # the time step\n",
    "r     = 5*v*dt   # the collision check radius\n",
    "xmax  = 3*X      # figure size x\n",
    "ymax  = 3*X      # figure size y\n",
    "\n",
    "\n",
    "# set class wide data, will be relevant for all birds:\n",
    "Bird.max_speed = v\n",
    "Bird.delta_t   = dt\n",
    "Bird.r         = r\n",
    "\n",
    "# initial positions and velocity vectors:\n",
    "all_xy = X * np.random.rand(N, 2)\n",
    "all_uv = v * np.random.rand(N, 2)\n",
    "\n",
    "# create N birds:\n",
    "birds = []\n",
    "for i in range(N):\n",
    "    birds.append(Bird(all_xy[i], all_uv[i], birds))\n",
    "\n",
    "# create animation:\n",
    "show_animation(birds, all_xy, xmax, ymax, steps, out_file=\"animation1.mp4\")"
   ]
  },
  {
   "cell_type": "markdown",
   "metadata": {},
   "source": [
    "# Summary\n",
    "\n",
    "In this lecture we had a first glimpse on classes and object-oriented programming. Things to take home:\n",
    "1. <font color=blue>**Classes**</font> can be thought of as blueprints of the components that you need for solving your problem.\n",
    "2. <font color=red>**Objects**</font> of the classes can be thought of as individual units. Often you need many individuals of the same class.\n",
    "3. **Classes can store data**: These are then identical for all objects.\n",
    "4. **Objects can store data**: These are individual and vary between objects.\n",
    "5. **Classes may contain methods**: These define functions acting on each individual. Use **_self_** as a reference to the object.\n",
    "6. By <font color=green>**class inheritance**</font>, you can define derived classes with extended data and functionality, or modified/specialized bahaviour.\n",
    "7. Derived classes can <font color=green>**overload**</font> methods that are defined in the parent class. User **_super()_** for accessing the parent.\n",
    "\n",
    "### extras\n",
    "1. [How to explain object-oriented programming concepts to a 6-year-old](https://medium.com/free-code-camp/object-oriented-programming-concepts-21bb035f7260)\n",
    "2. [SOLID Principles](https://www.acronymat.com/2021/01/11/solid/#article)\n",
    "1. [Uncle Bob](https://www.youtube.com/watch?v=zHiWqnTWsn4)\n",
    " "
   ]
  },
  {
   "cell_type": "markdown",
   "metadata": {},
   "source": []
  },
  {
   "cell_type": "markdown",
   "metadata": {},
   "source": [
    "## Abstract Classes"
   ]
  },
  {
   "cell_type": "code",
   "execution_count": 37,
   "metadata": {},
   "outputs": [],
   "source": [
    "from abc import ABC, abstractmethod"
   ]
  },
  {
   "cell_type": "code",
   "execution_count": 38,
   "metadata": {},
   "outputs": [],
   "source": [
    "class Shape(ABC):\n",
    "    \"\"\"\n",
    "    Shape is an abstract class inherited from ABC and has an abstract method\n",
    "    \n",
    "    \"\"\"\n",
    "    \n",
    "    def __init__(self, name = \"Shape\"):\n",
    "        \n",
    "        self._name = name\n",
    "        print(f\"I'm a {self._name} from base\")\n",
    "    \n",
    "    def name(self):\n",
    "        return self._name\n",
    "    \n",
    "    def __str__(self):\n",
    "        \"str for users\"\n",
    "        return  f\"I'm a {self._name} with an area of {self.area()}\"\n",
    "    \n",
    "    def __repr__(self):\n",
    "        \"str for developers\"\n",
    "        return str(self.__class__) + self.__str__()\n",
    "    \n",
    "    def __add__(self, b):\n",
    "        \" + operator \"\n",
    "        return self.area() + b.area()\n",
    "    \n",
    "    @abstractmethod    \n",
    "    def area(self):\n",
    "        pass\n"
   ]
  },
  {
   "cell_type": "code",
   "execution_count": 39,
   "metadata": {},
   "outputs": [],
   "source": [
    "class Square(Shape):\n",
    "    \n",
    "    def __init__(self, l):\n",
    "        super().__init__(name=self.__class__.__name__)\n",
    "        self._l = l\n",
    "        \n",
    "    def area(self):\n",
    "        \n",
    "        return self._l ** 2"
   ]
  },
  {
   "cell_type": "code",
   "execution_count": 40,
   "metadata": {},
   "outputs": [],
   "source": [
    "class Rectangule(Shape):\n",
    "    \n",
    "    def __init__(self, l, w):\n",
    "        super().__init__(name=self.__class__.__name__)\n",
    "        \n",
    "        self._l = l\n",
    "        self._w = w\n",
    "        \n",
    "    def area(self):\n",
    "        return self._l * self._w"
   ]
  },
  {
   "cell_type": "code",
   "execution_count": 41,
   "metadata": {},
   "outputs": [],
   "source": [
    "def area2(shape: Shape):\n",
    "    '''\n",
    "    Shape is used as a type hint but not enforced\n",
    "    '''\n",
    "    return shape.area()*2"
   ]
  },
  {
   "cell_type": "code",
   "execution_count": 42,
   "metadata": {},
   "outputs": [
    {
     "name": "stdout",
     "output_type": "stream",
     "text": [
      "I'm a Square from base\n",
      "I'm a Rectangule from base\n"
     ]
    }
   ],
   "source": [
    "sq = Square(3)\n",
    "rec = Rectangule(3,2)"
   ]
  },
  {
   "cell_type": "code",
   "execution_count": 43,
   "metadata": {},
   "outputs": [
    {
     "data": {
      "text/plain": [
       "15"
      ]
     },
     "execution_count": 43,
     "metadata": {},
     "output_type": "execute_result"
    }
   ],
   "source": [
    "total_area = sq + rec\n",
    "total_area"
   ]
  },
  {
   "cell_type": "code",
   "execution_count": null,
   "metadata": {},
   "outputs": [],
   "source": []
  }
 ],
 "metadata": {
  "kernelspec": {
   "display_name": "fiwind-venv",
   "language": "python",
   "name": "python3"
  },
  "language_info": {
   "codemirror_mode": {
    "name": "ipython",
    "version": 3
   },
   "file_extension": ".py",
   "mimetype": "text/x-python",
   "name": "python",
   "nbconvert_exporter": "python",
   "pygments_lexer": "ipython3",
   "version": "3.10.12"
  }
 },
 "nbformat": 4,
 "nbformat_minor": 2
}
