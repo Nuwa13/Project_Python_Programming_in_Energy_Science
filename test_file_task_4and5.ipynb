{
 "cells": [
  {
   "cell_type": "code",
   "execution_count": 1,
   "id": "initial_id",
   "metadata": {
    "collapsed": true
   },
   "outputs": [],
   "source": [
    "import numpy as np\n",
    "import pandas as pd\n",
    "import customFunctions as fct\n",
    "import foxes\n",
    "import foxes.variables as FV\n",
    "import foxes.input.farm_layout as layout\n",
    "from foxes import algorithms\n",
    "from foxes.output import FarmResultsEval\n",
    "import os\n",
    "os.environ[\"FOXES_ENGINE\"]    = \"threads\"\n",
    "os.environ[\"FOXES_N_PROCS\"]   = \"1\"\n",
    "\n",
    "# 1) Load & prepare ERA5 from reanalysis.csv\n",
    "era5 = pd.read_csv(\"reanalysis.csv\", index_col=0, parse_dates=True)\n",
    "era5.rename(columns={\"WS100\":\"WS\",\"WD100\":\"WD\"}, inplace=True)\n",
    "era5.replace(-999, np.nan, inplace=True)\n",
    "era5 = era5.resample(\"h\").mean()\n",
    "era5.index = pd.to_datetime(era5.index)\n",
    "era5 = era5.loc[\"2006-01-01\":\"2006-12-31\"]\n",
    "\n",
    "# 2) Ensure turbulence intensity column exists\n",
    "if \"TI\" not in era5.columns:\n",
    "    era5[\"TI\"] = 0.10  \n",
    "    \n"
   ]
  }
 ],
 "metadata": {
  "kernelspec": {
   "display_name": "geoplot",
   "language": "python",
   "name": "python3"
  },
  "language_info": {
   "codemirror_mode": {
    "name": "ipython",
    "version": 3
   },
   "file_extension": ".py",
   "mimetype": "text/x-python",
   "name": "python",
   "nbconvert_exporter": "python",
   "pygments_lexer": "ipython3",
   "version": "3.13.3"
  }
 },
 "nbformat": 4,
 "nbformat_minor": 5
}
