{
 "cells": [
  {
   "cell_type": "code",
   "execution_count": null,
   "id": "initial_id",
   "metadata": {
    "collapsed": true
   },
   "outputs": [],
   "source": [
    "import numpy as np\n",
    "import foxes\n",
    "import customFunctions as fct\n",
    "\n",
    "mbook = foxes.models.ModelBook()\n",
    "wake_models = [\"Bastankhah2014_linear_k004\",\"IECTI2019k_linear_k004\"]\n",
    "alternative_algo1 = fct.setup_algo(era5, 'alternative_farm1', wake_models=wake_models, model_book=mbook,\n",
    "                                   turbine_key=chosen_turbine)\n"
   ]
  }
 ],
 "metadata": {
  "kernelspec": {
   "display_name": "Python 3",
   "language": "python",
   "name": "python3"
  },
  "language_info": {
   "codemirror_mode": {
    "name": "ipython",
    "version": 2
   },
   "file_extension": ".py",
   "mimetype": "text/x-python",
   "name": "python",
   "nbconvert_exporter": "python",
   "pygments_lexer": "ipython2",
   "version": "2.7.6"
  }
 },
 "nbformat": 4,
 "nbformat_minor": 5
}
