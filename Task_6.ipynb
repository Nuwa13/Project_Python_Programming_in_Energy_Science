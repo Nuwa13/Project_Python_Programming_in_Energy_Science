{
 "cells": [
  {
   "cell_type": "code",
   "id": "initial_id",
   "metadata": {
    "collapsed": true,
    "ExecuteTime": {
     "end_time": "2025-06-11T09:14:57.788954Z",
     "start_time": "2025-06-11T09:14:55.599684Z"
    }
   },
   "source": [
    "import numpy as np\n",
    "import foxes\n",
    "import customFunctions as fct\n",
    "from customFunctions import correct_long_term_wind\n",
    "\n",
    "wind_data = correct_long_term_wind()\n",
    "best_wake_models = [\"Bastankhah2014_linear_k004\",\"IECTI2019k_linear_k004\"]\n",
    "alternative_algo1 = fct.setup_algo(wind_data, 'final_farm', wake_models=best_wake_models)\n"
   ],
   "outputs": [
    {
     "ename": "TypeError",
     "evalue": "correct_long_term_wind() missing 4 required positional arguments: 'wind_model', 'wind_measurement', 'classifier', and 'param_grid'",
     "output_type": "error",
     "traceback": [
      "\u001B[0;31m---------------------------------------------------------------------------\u001B[0m",
      "\u001B[0;31mTypeError\u001B[0m                                 Traceback (most recent call last)",
      "Cell \u001B[0;32mIn[1], line 6\u001B[0m\n\u001B[1;32m      3\u001B[0m \u001B[38;5;28;01mimport\u001B[39;00m \u001B[38;5;21;01mcustomFunctions\u001B[39;00m \u001B[38;5;28;01mas\u001B[39;00m \u001B[38;5;21;01mfct\u001B[39;00m\n\u001B[1;32m      4\u001B[0m \u001B[38;5;28;01mfrom\u001B[39;00m \u001B[38;5;21;01mcustomFunctions\u001B[39;00m \u001B[38;5;28;01mimport\u001B[39;00m correct_long_term_wind\n\u001B[0;32m----> 6\u001B[0m wind_data \u001B[38;5;241m=\u001B[39m \u001B[43mcorrect_long_term_wind\u001B[49m\u001B[43m(\u001B[49m\u001B[43m)\u001B[49m\n\u001B[1;32m      7\u001B[0m best_wake_models \u001B[38;5;241m=\u001B[39m [\u001B[38;5;124m\"\u001B[39m\u001B[38;5;124mBastankhah2014_linear_k004\u001B[39m\u001B[38;5;124m\"\u001B[39m,\u001B[38;5;124m\"\u001B[39m\u001B[38;5;124mIECTI2019k_linear_k004\u001B[39m\u001B[38;5;124m\"\u001B[39m]\n\u001B[1;32m      8\u001B[0m alternative_algo1 \u001B[38;5;241m=\u001B[39m fct\u001B[38;5;241m.\u001B[39msetup_algo(wind_data, \u001B[38;5;124m'\u001B[39m\u001B[38;5;124mfinal_farm\u001B[39m\u001B[38;5;124m'\u001B[39m, wake_models\u001B[38;5;241m=\u001B[39mbest_wake_models)\n",
      "\u001B[0;31mTypeError\u001B[0m: correct_long_term_wind() missing 4 required positional arguments: 'wind_model', 'wind_measurement', 'classifier', and 'param_grid'"
     ]
    }
   ],
   "execution_count": 1
  }
 ],
 "metadata": {
  "kernelspec": {
   "display_name": "Python 3",
   "language": "python",
   "name": "python3"
  },
  "language_info": {
   "codemirror_mode": {
    "name": "ipython",
    "version": 2
   },
   "file_extension": ".py",
   "mimetype": "text/x-python",
   "name": "python",
   "nbconvert_exporter": "python",
   "pygments_lexer": "ipython2",
   "version": "2.7.6"
  }
 },
 "nbformat": 4,
 "nbformat_minor": 5
}
