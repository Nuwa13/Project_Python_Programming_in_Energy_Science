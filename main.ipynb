{
 "cells": [
  {
   "cell_type": "code",
   "execution_count": 1,
   "id": "366b322d",
   "metadata": {},
   "outputs": [],
   "source": [
    "import pandas as pd\n",
    "import numpy as np\n",
    "import foxes\n",
    "import foxes.variables as FV\n",
    "import sklearn\n",
    "from sklearn.preprocessing import StandardScaler\n",
    "from sklearn.model_selection import GridSearchCV, train_test_split, cross_val_predict\n",
    "from sklearn.metrics import r2_score, mean_absolute_error, mean_absolute_percentage_error,root_mean_squared_error,mean_squared_error\n",
    "import customFunctions as fct\n",
    "import matplotlib.pyplot as plt\n",
    "import sklearn.neighbors"
   ]
  },
  {
   "cell_type": "markdown",
   "id": "037f87b3",
   "metadata": {},
   "source": [
    "# Task 1"
   ]
  },
  {
   "cell_type": "code",
   "execution_count": 2,
   "id": "initial_id",
   "metadata": {
    "collapsed": true
   },
   "outputs": [
    {
     "data": {
      "text/html": [
       "<div>\n",
       "<style scoped>\n",
       "    .dataframe tbody tr th:only-of-type {\n",
       "        vertical-align: middle;\n",
       "    }\n",
       "\n",
       "    .dataframe tbody tr th {\n",
       "        vertical-align: top;\n",
       "    }\n",
       "\n",
       "    .dataframe thead th {\n",
       "        text-align: right;\n",
       "    }\n",
       "</style>\n",
       "<table border=\"1\" class=\"dataframe\">\n",
       "  <thead>\n",
       "    <tr style=\"text-align: right;\">\n",
       "      <th></th>\n",
       "      <th>WS-99.2</th>\n",
       "      <th>WD-99.2</th>\n",
       "      <th>WS100</th>\n",
       "      <th>WD100</th>\n",
       "      <th>Mon</th>\n",
       "      <th>Hour</th>\n",
       "    </tr>\n",
       "    <tr>\n",
       "      <th>Time</th>\n",
       "      <th></th>\n",
       "      <th></th>\n",
       "      <th></th>\n",
       "      <th></th>\n",
       "      <th></th>\n",
       "      <th></th>\n",
       "    </tr>\n",
       "  </thead>\n",
       "  <tbody>\n",
       "    <tr>\n",
       "      <th>2024-12-31 19:00:00</th>\n",
       "      <td>NaN</td>\n",
       "      <td>NaN</td>\n",
       "      <td>21.859</td>\n",
       "      <td>225.5</td>\n",
       "      <td>12</td>\n",
       "      <td>19</td>\n",
       "    </tr>\n",
       "    <tr>\n",
       "      <th>2024-12-31 20:00:00</th>\n",
       "      <td>NaN</td>\n",
       "      <td>NaN</td>\n",
       "      <td>21.991</td>\n",
       "      <td>226.8</td>\n",
       "      <td>12</td>\n",
       "      <td>20</td>\n",
       "    </tr>\n",
       "    <tr>\n",
       "      <th>2024-12-31 21:00:00</th>\n",
       "      <td>NaN</td>\n",
       "      <td>NaN</td>\n",
       "      <td>22.290</td>\n",
       "      <td>228.4</td>\n",
       "      <td>12</td>\n",
       "      <td>21</td>\n",
       "    </tr>\n",
       "    <tr>\n",
       "      <th>2024-12-31 22:00:00</th>\n",
       "      <td>NaN</td>\n",
       "      <td>NaN</td>\n",
       "      <td>21.714</td>\n",
       "      <td>228.1</td>\n",
       "      <td>12</td>\n",
       "      <td>22</td>\n",
       "    </tr>\n",
       "    <tr>\n",
       "      <th>2024-12-31 23:00:00</th>\n",
       "      <td>NaN</td>\n",
       "      <td>NaN</td>\n",
       "      <td>22.628</td>\n",
       "      <td>227.7</td>\n",
       "      <td>12</td>\n",
       "      <td>23</td>\n",
       "    </tr>\n",
       "  </tbody>\n",
       "</table>\n",
       "</div>"
      ],
      "text/plain": [
       "                     WS-99.2  WD-99.2   WS100  WD100 Mon Hour\n",
       "Time                                                         \n",
       "2024-12-31 19:00:00      NaN      NaN  21.859  225.5  12   19\n",
       "2024-12-31 20:00:00      NaN      NaN  21.991  226.8  12   20\n",
       "2024-12-31 21:00:00      NaN      NaN  22.290  228.4  12   21\n",
       "2024-12-31 22:00:00      NaN      NaN  21.714  228.1  12   22\n",
       "2024-12-31 23:00:00      NaN      NaN  22.628  227.7  12   23"
      ]
     },
     "execution_count": 2,
     "metadata": {},
     "output_type": "execute_result"
    }
   ],
   "source": [
    "data_ERA5 = fct.read_ts_csv(f'reanalysis.csv')\n",
    "data_LIDAR = fct.read_ts_csv(f'measurements/lidar.csv')\n",
    "\n",
    "# Resample the data to 1h intervals\n",
    "data_ERA5 = data_ERA5.resample('h', on='Time').mean()\n",
    "data_LIDAR = data_LIDAR.resample('h', on='Time').mean()\n",
    "\n",
    "# create a merged dataframe containing the ERA5 and the LIDAR data\n",
    "data_mrgd = pd.merge(data_LIDAR, data_ERA5, how='right', on='Time')\n",
    "\n",
    "# Ensure that the datetime format is used for the datetime index\n",
    "data_mrgd.index = pd.to_datetime(data_mrgd.index)\n",
    "\n",
    "data_mrgd['Mon']      = data_mrgd.index.strftime('%m')\n",
    "data_mrgd['Hour']     = data_mrgd.index.strftime('%H')\n",
    "data_mrgd.tail()\n",
    "# data_mrgd.columns.values"
   ]
  },
  {
   "cell_type": "markdown",
   "id": "72197742",
   "metadata": {},
   "source": [
    "# Task 2"
   ]
  },
  {
   "cell_type": "code",
   "execution_count": null,
   "id": "6b1323e9",
   "metadata": {},
   "outputs": [],
   "source": []
  },
  {
   "cell_type": "markdown",
   "id": "45f1641b",
   "metadata": {},
   "source": [
    "# Task 3\n",
    "\n",
    "The long-term correction of the ERA05 model data using the LIDAR measurements."
   ]
  },
  {
   "cell_type": "code",
   "execution_count": 3,
   "id": "2a079c08",
   "metadata": {},
   "outputs": [
    {
     "name": "stdout",
     "output_type": "stream",
     "text": [
      "Best score:\n",
      "-1.38\n",
      "Best parameters:\n",
      "{'leaf_size': 1, 'metric': 'euclidean', 'n_neighbors': 5, 'p': 1, 'weights': 'distance'}\n",
      "Validation scores - Cross Validation:\n",
      "-------------------------\n",
      "R2-Score:  0.9342\n",
      "MSE:  1.3357\n",
      "RMSE:  1.1557\n",
      "MAE:  0.8448\n",
      "MAPE:  13.0987\n",
      "Validation scores - Without Correction:\n",
      "-------------------------\n",
      "R2-Score:  0.9238\n",
      "MSE:  1.5719\n",
      "RMSE:  1.2537\n",
      "MAE:  0.9267\n",
      "MAPE:  13.6171\n",
      "Validation scores - Model and Test Data:\n",
      "-------------------------\n",
      "R2-Score:  0.9401\n",
      "MSE:  1.2785\n",
      "RMSE:  1.1307\n",
      "MAE:  0.8163\n",
      "MAPE:  12.2684\n",
      "Best score:\n",
      "-1352.17\n",
      "Best parameters:\n",
      "{'leaf_size': 1, 'metric': 'manhattan', 'n_neighbors': 12, 'p': 1, 'weights': 'distance'}\n",
      "Validation scores - Cross Validation:\n",
      "-------------------------\n",
      "R2-Score:  0.8463\n",
      "MSE:  1356.6331\n",
      "RMSE:  36.8325\n",
      "MAE:  18.2059\n",
      "MAPE:  38.8951\n",
      "Validation scores - Without Correction:\n",
      "-------------------------\n",
      "R2-Score:  -4.0492\n",
      "MSE:  44237.2186\n",
      "RMSE:  210.3265\n",
      "MAE:  188.498\n",
      "MAPE:  92.4655\n",
      "Validation scores - Model and Test Data:\n",
      "-------------------------\n",
      "R2-Score:  0.8313\n",
      "MSE:  1452.573\n",
      "RMSE:  38.1126\n",
      "MAE:  17.9814\n",
      "MAPE:  29.9979\n"
     ]
    }
   ],
   "source": [
    "param_grid = {\n",
    "              \"n_neighbors\"       : [2,5,12,30],\n",
    "              \"leaf_size\"         : [1, 2, 3,15,30],\n",
    "              \"p\"                 : [1,2],\n",
    "              \"weights\"           : ['uniform', 'distance'],\n",
    "              \"metric\"            : ['euclidean','manhattan','minkowski'] \n",
    "             }\n",
    "\n",
    "classifier = sklearn.neighbors.KNeighborsRegressor()\n",
    "\n",
    "WS_predictions, meas_idx = fct.correct_long_term_wind(data_mrgd[['WS100','WD100','Mon','Hour']], data_mrgd['WS-99.2'], \n",
    "                                                   classifier=classifier, param_grid=param_grid)\n",
    "WD_predictions, meas_idx = fct.correct_long_term_wind(data_mrgd[['WS100','WD100','Mon','Hour']], data_mrgd['WD-99.2'], \n",
    "                                                   classifier=classifier, param_grid=param_grid)\n"
   ]
  },
  {
   "cell_type": "code",
   "execution_count": 4,
   "id": "c6b6944f",
   "metadata": {},
   "outputs": [
    {
     "data": {
      "image/png": "[encoded data removed]",
      "text/plain": [
       "<Figure size 1600x800 with 1 Axes>"
      ]
     },
     "metadata": {},
     "output_type": "display_data"
    }
   ],
   "source": [
    "nbins = np.arange(0, 30, 1)\n",
    "\n",
    "fig = plt.figure(figsize=(16,8))\n",
    "plt.hist(data_mrgd['WS-99.2'].iloc[meas_idx], nbins, label='Observation', histtype='step', density=True)\n",
    "plt.hist(data_mrgd['WS100'].iloc[meas_idx], nbins, label='ERA-5', histtype='step', density=True)\n",
    "plt.hist(WS_predictions[meas_idx], nbins, label='ERA-5_corrected', alpha=0.5, density=True)\n",
    "plt.xticks(fontsize= 14)\n",
    "plt.yticks(fontsize= 14)\n",
    "plt.legend(fontsize= 12)\n",
    "plt.grid()"
   ]
  }
 ],
 "metadata": {
  "kernelspec": {
   "display_name": ".venv",
   "language": "python",
   "name": "python3"
  },
  "language_info": {
   "codemirror_mode": {
    "name": "ipython",
    "version": 3
   },
   "file_extension": ".py",
   "mimetype": "text/x-python",
   "name": "python",
   "nbconvert_exporter": "python",
   "pygments_lexer": "ipython3",
   "version": "3.13.3"
  }
 },
 "nbformat": 4,
 "nbformat_minor": 5
}
