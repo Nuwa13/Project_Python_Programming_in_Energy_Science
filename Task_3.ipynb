{
 "cells": [
  {
   "cell_type": "code",
   "execution_count": 1,
   "id": "f4c65eb3",
   "metadata": {},
   "outputs": [],
   "source": [
    "\n",
    "import numpy as np\n",
    "import datetime as dt\n",
    "import pandas as pd\n",
    "from sklearn.preprocessing import StandardScaler\n",
    "from sklearn.model_selection import GridSearchCV,train_test_split,cross_val_predict\n",
    "from sklearn.metrics import r2_score, mean_absolute_error, mean_absolute_percentage_error,root_mean_squared_error,mean_squared_error\n",
    "from sklearn.neighbors import KNeighborsRegressor\n",
    "import matplotlib.pyplot as plt\n",
    "import customFunctions as fct\n",
    "\n",
    "scaler=StandardScaler()"
   ]
  },
  {
   "cell_type": "code",
   "execution_count": 2,
   "id": "5fd8e2aa",
   "metadata": {},
   "outputs": [],
   "source": [
    "# Read in the data using the simple reading and cleaning function\n",
    "data_ERA5 = fct.read_ts_csv(f'reanalysis.csv')\n",
    "data_LIDAR = fct.read_ts_csv(f'measurements/lidar.csv')\n",
    "\n",
    "# Resample the data to 1h intervals\n",
    "data_ERA5 = data_ERA5.resample('h', on='Time').mean()\n",
    "data_LIDAR = data_LIDAR.resample('h', on='Time').mean()\n",
    "\n",
    "# create a merged dataframe containing the ERA5 and the LIDAR data\n",
    "data_mrgd = pd.merge(data_LIDAR, data_ERA5, how='right', on='Time')\n",
    "\n",
    "# Ensure that the datetime format is used for the datetime index\n",
    "data_mrgd.index = pd.to_datetime(data_mrgd.index)"
   ]
  }
 ],
 "metadata": {
  "kernelspec": {
   "display_name": ".venv",
   "language": "python",
   "name": "python3"
  },
  "language_info": {
   "codemirror_mode": {
    "name": "ipython",
    "version": 3
   },
   "file_extension": ".py",
   "mimetype": "text/x-python",
   "name": "python",
   "nbconvert_exporter": "python",
   "pygments_lexer": "ipython3",
   "version": "3.13.3"
  }
 },
 "nbformat": 4,
 "nbformat_minor": 5
}
